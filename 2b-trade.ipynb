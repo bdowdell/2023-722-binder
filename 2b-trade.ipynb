{
 "cells": [
  {
   "cell_type": "code",
   "execution_count": 3,
   "metadata": {},
   "outputs": [],
   "source": [
    "import pandas as pd\n",
    "import numpy as np\n",
    "import get_secrets\n",
    "from alpaca.trading.client import TradingClient\n",
    "from alpaca.data import StockHistoricalDataClient\n",
    "from alpaca.data.requests import StockLatestQuoteRequest\n",
    "from alpaca.trading.requests import MarketOrderRequest, GetAssetsRequest\n",
    "from alpaca.trading.enums import OrderSide, TimeInForce, AssetClass\n"
   ]
  },
  {
   "cell_type": "code",
   "execution_count": null,
   "metadata": {},
   "outputs": [],
   "source": [
    "secrets = get_secrets.get_secrets('.secrets')\n",
    "\n",
    "KEY = secrets[8]\n",
    "SECRET_KEY = secrets[9]\n",
    "\n",
    "data_client = StockHistoricalDataClient(KEY, SECRET_KEY)\n",
    "trading_client = TradingClient(KEY, SECRET_KEY, paper=True)"
   ]
  },
  {
   "attachments": {},
   "cell_type": "markdown",
   "metadata": {},
   "source": [
    "### Check positions"
   ]
  },
  {
   "cell_type": "code",
   "execution_count": 4,
   "metadata": {},
   "outputs": [
    {
     "data": {
      "text/html": [
       "<div>\n",
       "<style scoped>\n",
       "    .dataframe tbody tr th:only-of-type {\n",
       "        vertical-align: middle;\n",
       "    }\n",
       "\n",
       "    .dataframe tbody tr th {\n",
       "        vertical-align: top;\n",
       "    }\n",
       "\n",
       "    .dataframe thead th {\n",
       "        text-align: right;\n",
       "    }\n",
       "</style>\n",
       "<table border=\"1\" class=\"dataframe\">\n",
       "  <thead>\n",
       "    <tr style=\"text-align: right;\">\n",
       "      <th></th>\n",
       "      <th>asset_id</th>\n",
       "      <th>symbol</th>\n",
       "      <th>exchange</th>\n",
       "      <th>asset_class</th>\n",
       "      <th>avg_entry_price</th>\n",
       "      <th>qty</th>\n",
       "      <th>side</th>\n",
       "      <th>market_value</th>\n",
       "      <th>cost_basis</th>\n",
       "      <th>unrealized_pl</th>\n",
       "      <th>unrealized_plpc</th>\n",
       "      <th>unrealized_intraday_pl</th>\n",
       "      <th>unrealized_intraday_plpc</th>\n",
       "      <th>current_price</th>\n",
       "      <th>lastday_price</th>\n",
       "      <th>change_today</th>\n",
       "    </tr>\n",
       "  </thead>\n",
       "  <tbody>\n",
       "    <tr>\n",
       "      <th>0</th>\n",
       "      <td>b0b6dd9d-8b9b-48a9-ba46-b9d54906e415</td>\n",
       "      <td>AAPL</td>\n",
       "      <td>AssetExchange.NASDAQ</td>\n",
       "      <td>AssetClass.US_EQUITY</td>\n",
       "      <td>135.52</td>\n",
       "      <td>30</td>\n",
       "      <td>PositionSide.LONG</td>\n",
       "      <td>4044</td>\n",
       "      <td>4065.6</td>\n",
       "      <td>-21.6</td>\n",
       "      <td>-0.0053128689492326</td>\n",
       "      <td>-30</td>\n",
       "      <td>-0.0073637702503682</td>\n",
       "      <td>134.8</td>\n",
       "      <td>135.94</td>\n",
       "      <td>-0.0083860526702957</td>\n",
       "    </tr>\n",
       "    <tr>\n",
       "      <th>1</th>\n",
       "      <td>8ccae427-5dd0-45b3-b5fe-7ba5e422c766</td>\n",
       "      <td>TSLA</td>\n",
       "      <td>AssetExchange.NASDAQ</td>\n",
       "      <td>AssetClass.US_EQUITY</td>\n",
       "      <td>130</td>\n",
       "      <td>-15</td>\n",
       "      <td>PositionSide.SHORT</td>\n",
       "      <td>-1918.2</td>\n",
       "      <td>-1950</td>\n",
       "      <td>31.8</td>\n",
       "      <td>0.0163076923076923</td>\n",
       "      <td>46.7</td>\n",
       "      <td>0.0237671128301695</td>\n",
       "      <td>127.88</td>\n",
       "      <td>131.49</td>\n",
       "      <td>-0.0274545592820747</td>\n",
       "    </tr>\n",
       "  </tbody>\n",
       "</table>\n",
       "</div>"
      ],
      "text/plain": [
       "                               asset_id symbol              exchange  \\\n",
       "0  b0b6dd9d-8b9b-48a9-ba46-b9d54906e415   AAPL  AssetExchange.NASDAQ   \n",
       "1  8ccae427-5dd0-45b3-b5fe-7ba5e422c766   TSLA  AssetExchange.NASDAQ   \n",
       "\n",
       "            asset_class avg_entry_price  qty                side market_value  \\\n",
       "0  AssetClass.US_EQUITY          135.52   30   PositionSide.LONG         4044   \n",
       "1  AssetClass.US_EQUITY             130  -15  PositionSide.SHORT      -1918.2   \n",
       "\n",
       "  cost_basis unrealized_pl      unrealized_plpc unrealized_intraday_pl  \\\n",
       "0     4065.6         -21.6  -0.0053128689492326                    -30   \n",
       "1      -1950          31.8   0.0163076923076923                   46.7   \n",
       "\n",
       "  unrealized_intraday_plpc current_price lastday_price         change_today  \n",
       "0      -0.0073637702503682         134.8        135.94  -0.0083860526702957  \n",
       "1       0.0237671128301695        127.88        131.49  -0.0274545592820747  "
      ]
     },
     "execution_count": 4,
     "metadata": {},
     "output_type": "execute_result"
    }
   ],
   "source": [
    "positions = trading_client.get_all_positions()\n",
    "sers = [pd.Series(dict(x)) for x in positions]\n",
    "df = pd.concat(sers, axis=1)\n",
    "df.T\n"
   ]
  },
  {
   "attachments": {},
   "cell_type": "markdown",
   "metadata": {},
   "source": [
    "### Get quotes for tickers"
   ]
  },
  {
   "cell_type": "code",
   "execution_count": 5,
   "metadata": {},
   "outputs": [
    {
     "name": "stdout",
     "output_type": "stream",
     "text": [
      "<class 'pandas.core.frame.DataFrame'>\n",
      "Index: 126 entries, ORCC to AMCX\n",
      "Data columns (total 9 columns):\n",
      " #   Column        Non-Null Count  Dtype              \n",
      "---  ------        --------------  -----              \n",
      " 0   timestamp     126 non-null    datetime64[ns, UTC]\n",
      " 1   ask_exchange  126 non-null    object             \n",
      " 2   ask_price     126 non-null    object             \n",
      " 3   ask_size      126 non-null    object             \n",
      " 4   bid_exchange  126 non-null    object             \n",
      " 5   bid_price     126 non-null    object             \n",
      " 6   bid_size      126 non-null    object             \n",
      " 7   conditions    126 non-null    object             \n",
      " 8   tape          126 non-null    object             \n",
      "dtypes: datetime64[ns, UTC](1), object(8)\n",
      "memory usage: 9.8+ KB\n"
     ]
    }
   ],
   "source": [
    "df = pd.read_csv(\"files/first_portfolio.csv\")\n",
    "ticks = df.ticker.to_list()\n",
    "\n",
    "params = StockLatestQuoteRequest(symbol_or_symbols=ticks)\n",
    "quotes = data_client.get_stock_latest_quote(params)\n",
    "\n",
    "sers = [pd.Series(dict(x)) for x in quotes.values()]\n",
    "df = pd.concat(sers, axis=1)\n",
    "df.columns = [x for x in quotes]\n",
    "df = df.T\n",
    "df = df.drop(columns=[\"symbol\"])\n",
    "df.info()"
   ]
  },
  {
   "attachments": {},
   "cell_type": "markdown",
   "metadata": {},
   "source": [
    "### Compute desired trades"
   ]
  },
  {
   "cell_type": "code",
   "execution_count": 8,
   "metadata": {},
   "outputs": [],
   "source": [
    "equity = 100000\n",
    "numstocks = len(ticks)\n",
    "dollars_per_stock = equity / numstocks\n",
    "\n",
    "df = df[(~df.ask_price.isna()) & (df.ask_price != 0)]\n",
    "df[\"trade\"] = (dollars_per_stock / df.ask_price).astype(int)\n",
    "ticks = df[df.trade>0].index.to_list()"
   ]
  },
  {
   "attachments": {},
   "cell_type": "markdown",
   "metadata": {},
   "source": [
    "### Submit trades"
   ]
  },
  {
   "cell_type": "code",
   "execution_count": 9,
   "metadata": {},
   "outputs": [],
   "source": [
    "for tick in ticks: \n",
    "    market_order_data = MarketOrderRequest(\n",
    "        symbol=tick,\n",
    "        qty=df.trade.loc[tick],\n",
    "        side=OrderSide.BUY,\n",
    "        time_in_force=TimeInForce.DAY\n",
    "    )\n",
    "    market_order = trading_client.submit_order(\n",
    "        order_data=market_order_data\n",
    "    )"
   ]
  },
  {
   "attachments": {},
   "cell_type": "markdown",
   "metadata": {},
   "source": [
    "### Check positions again"
   ]
  },
  {
   "cell_type": "code",
   "execution_count": 10,
   "metadata": {},
   "outputs": [
    {
     "data": {
      "text/html": [
       "<div>\n",
       "<style scoped>\n",
       "    .dataframe tbody tr th:only-of-type {\n",
       "        vertical-align: middle;\n",
       "    }\n",
       "\n",
       "    .dataframe tbody tr th {\n",
       "        vertical-align: top;\n",
       "    }\n",
       "\n",
       "    .dataframe thead th {\n",
       "        text-align: right;\n",
       "    }\n",
       "</style>\n",
       "<table border=\"1\" class=\"dataframe\">\n",
       "  <thead>\n",
       "    <tr style=\"text-align: right;\">\n",
       "      <th></th>\n",
       "      <th>asset_id</th>\n",
       "      <th>symbol</th>\n",
       "      <th>exchange</th>\n",
       "      <th>asset_class</th>\n",
       "      <th>avg_entry_price</th>\n",
       "      <th>qty</th>\n",
       "      <th>side</th>\n",
       "      <th>market_value</th>\n",
       "      <th>cost_basis</th>\n",
       "      <th>unrealized_pl</th>\n",
       "      <th>unrealized_plpc</th>\n",
       "      <th>unrealized_intraday_pl</th>\n",
       "      <th>unrealized_intraday_plpc</th>\n",
       "      <th>current_price</th>\n",
       "      <th>lastday_price</th>\n",
       "      <th>change_today</th>\n",
       "    </tr>\n",
       "  </thead>\n",
       "  <tbody>\n",
       "    <tr>\n",
       "      <th>0</th>\n",
       "      <td>b0b6dd9d-8b9b-48a9-ba46-b9d54906e415</td>\n",
       "      <td>AAPL</td>\n",
       "      <td>AssetExchange.NASDAQ</td>\n",
       "      <td>AssetClass.US_EQUITY</td>\n",
       "      <td>135.52</td>\n",
       "      <td>30</td>\n",
       "      <td>PositionSide.LONG</td>\n",
       "      <td>4043.7</td>\n",
       "      <td>4065.6</td>\n",
       "      <td>-21.9</td>\n",
       "      <td>-0.0053866587957497</td>\n",
       "      <td>-30.3</td>\n",
       "      <td>-0.0074374079528719</td>\n",
       "      <td>134.79</td>\n",
       "      <td>135.94</td>\n",
       "      <td>-0.0084596145358246</td>\n",
       "    </tr>\n",
       "    <tr>\n",
       "      <th>1</th>\n",
       "      <td>8ccae427-5dd0-45b3-b5fe-7ba5e422c766</td>\n",
       "      <td>TSLA</td>\n",
       "      <td>AssetExchange.NASDAQ</td>\n",
       "      <td>AssetClass.US_EQUITY</td>\n",
       "      <td>130</td>\n",
       "      <td>-15</td>\n",
       "      <td>PositionSide.SHORT</td>\n",
       "      <td>-1915.05</td>\n",
       "      <td>-1950</td>\n",
       "      <td>34.95</td>\n",
       "      <td>0.0179230769230769</td>\n",
       "      <td>49.85</td>\n",
       "      <td>0.0253702478497633</td>\n",
       "      <td>127.67</td>\n",
       "      <td>131.49</td>\n",
       "      <td>-0.0290516389079017</td>\n",
       "    </tr>\n",
       "  </tbody>\n",
       "</table>\n",
       "</div>"
      ],
      "text/plain": [
       "                               asset_id symbol              exchange  \\\n",
       "0  b0b6dd9d-8b9b-48a9-ba46-b9d54906e415   AAPL  AssetExchange.NASDAQ   \n",
       "1  8ccae427-5dd0-45b3-b5fe-7ba5e422c766   TSLA  AssetExchange.NASDAQ   \n",
       "\n",
       "            asset_class avg_entry_price  qty                side market_value  \\\n",
       "0  AssetClass.US_EQUITY          135.52   30   PositionSide.LONG       4043.7   \n",
       "1  AssetClass.US_EQUITY             130  -15  PositionSide.SHORT     -1915.05   \n",
       "\n",
       "  cost_basis unrealized_pl      unrealized_plpc unrealized_intraday_pl  \\\n",
       "0     4065.6         -21.9  -0.0053866587957497                  -30.3   \n",
       "1      -1950         34.95   0.0179230769230769                  49.85   \n",
       "\n",
       "  unrealized_intraday_plpc current_price lastday_price         change_today  \n",
       "0      -0.0074374079528719        134.79        135.94  -0.0084596145358246  \n",
       "1       0.0253702478497633        127.67        131.49  -0.0290516389079017  "
      ]
     },
     "execution_count": 10,
     "metadata": {},
     "output_type": "execute_result"
    }
   ],
   "source": [
    "positions = trading_client.get_all_positions()\n",
    "sers = [pd.Series(dict(x)) for x in positions]\n",
    "df = pd.concat(sers, axis=1)\n",
    "df.T\n"
   ]
  }
 ],
 "metadata": {
  "kernelspec": {
   "display_name": "base",
   "language": "python",
   "name": "python3"
  },
  "language_info": {
   "codemirror_mode": {
    "name": "ipython",
    "version": 3
   },
   "file_extension": ".py",
   "mimetype": "text/x-python",
   "name": "python",
   "nbconvert_exporter": "python",
   "pygments_lexer": "ipython3",
   "version": "3.9.12"
  },
  "orig_nbformat": 4,
  "vscode": {
   "interpreter": {
    "hash": "dc3b4a4a31b6e665535697a8ec6dc04a4dae602fc274520d31fba39b24f906ad"
   }
  }
 },
 "nbformat": 4,
 "nbformat_minor": 2
}
