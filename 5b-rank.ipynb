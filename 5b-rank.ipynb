{
 "cells": [
  {
   "cell_type": "code",
   "execution_count": 4,
   "metadata": {},
   "outputs": [],
   "source": [
    "import pandas as pd\n",
    "import pymssql\n",
    "from sqlalchemy import create_engine\n",
    "from datetime import datetime\n",
    "from sklearn.preprocessing import QuantileTransformer\n",
    "from joblib import load\n",
    "\n",
    "qt = QuantileTransformer(output_distribution=\"normal\")\n",
    "pipe = load(\"files/linear_model_2023-01-20.joblib\")\n",
    "\n",
    "today = datetime.today().strftime(\"%Y-%m-%d\")"
   ]
  },
  {
   "cell_type": "code",
   "execution_count": 5,
   "metadata": {},
   "outputs": [],
   "source": [
    "server = 'fs.rice.edu'\n",
    "database = 'stocks'\n",
    "username = 'stocks'\n",
    "password = '6LAZH1'\n",
    "\n",
    "string = \"mssql+pymssql://\" + username + \":\" + password + \"@\" + server + \"/\" + database \n",
    "conn = create_engine(string).connect()"
   ]
  },
  {
   "cell_type": "code",
   "execution_count": 6,
   "metadata": {},
   "outputs": [],
   "source": [
    "df = pd.read_sql(\n",
    "    \"\"\"\n",
    "    select ticker, bm, mom12m, roeq, mve, famaindustry\n",
    "    from today\n",
    "    \"\"\", \n",
    "    conn\n",
    ")\n",
    "df = df.dropna()\n",
    "df = df.set_index(\"ticker\")"
   ]
  },
  {
   "cell_type": "code",
   "execution_count": 7,
   "metadata": {},
   "outputs": [],
   "source": [
    "df = df.sort_values(by=\"mve\")\n",
    "df = df.iloc[:-500]"
   ]
  },
  {
   "cell_type": "code",
   "execution_count": 8,
   "metadata": {},
   "outputs": [],
   "source": [
    "features = [\"bm\", \"mom12m\", \"roeq\"]\n",
    "\n",
    "transformed_features = qt.fit_transform (df[features])\n",
    "transformed_features = pd.DataFrame(transformed_features, columns=features, index=df.index)\n",
    "\n",
    "df[\"predict\"] = pipe.predict(transformed_features)\n",
    "\n",
    "for f in features:\n",
    "    df[\"t\" + f] = transformed_features[f]\n",
    "    \n",
    "df.to_csv(f\"files/predictions_{today}.csv\")"
   ]
  }
 ],
 "metadata": {
  "kernelspec": {
   "display_name": "Python 3",
   "language": "python",
   "name": "python3"
  },
  "language_info": {
   "codemirror_mode": {
    "name": "ipython",
    "version": 3
   },
   "file_extension": ".py",
   "mimetype": "text/x-python",
   "name": "python",
   "nbconvert_exporter": "python",
   "pygments_lexer": "ipython3",
   "version": "3.10.8"
  },
  "orig_nbformat": 4,
  "vscode": {
   "interpreter": {
    "hash": "a98f34b6005ae2330f135078450db511ef8910ecc790235ef0560aa88aa6ce12"
   }
  }
 },
 "nbformat": 4,
 "nbformat_minor": 2
}
