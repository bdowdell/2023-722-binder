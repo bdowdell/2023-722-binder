{
 "cells": [
  {
   "cell_type": "code",
   "execution_count": null,
   "metadata": {},
   "outputs": [],
   "source": [
    "import pandas as pd\n",
    "import pymssql\n",
    "from sqlalchemy import create_engine\n",
    "import get_secrets"
   ]
  },
  {
   "cell_type": "code",
   "execution_count": null,
   "metadata": {},
   "outputs": [],
   "source": [
    "secrets = get_secrets.get_secrets('.secrets')\n",
    "server = secrets[4]\n",
    "database = secrets[5]\n",
    "username = secrets[6]\n",
    "password = secrets[7]\n",
    "string = \"mssql+pymssql://\" + username + \":\" + password + \"@\" + server + \"/\" + database \n",
    "\n",
    "conn = create_engine(string).connect()"
   ]
  },
  {
   "cell_type": "code",
   "execution_count": null,
   "metadata": {},
   "outputs": [],
   "source": [
    "df = pd.read_sql(\n",
    "    \"select * from today where ticker in ('AAPL', 'CVX')\", \n",
    "    conn\n",
    "  )\n",
    "df.set_index(\"ticker\").T"
   ]
  }
 ],
 "metadata": {
  "kernelspec": {
   "display_name": "base",
   "language": "python",
   "name": "python3"
  },
  "language_info": {
   "name": "python",
   "version": "3.9.12"
  },
  "orig_nbformat": 4,
  "vscode": {
   "interpreter": {
    "hash": "dc3b4a4a31b6e665535697a8ec6dc04a4dae602fc274520d31fba39b24f906ad"
   }
  }
 },
 "nbformat": 4,
 "nbformat_minor": 2
}
