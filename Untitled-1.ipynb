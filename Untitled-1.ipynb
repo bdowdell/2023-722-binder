{
 "cells": [
  {
   "cell_type": "code",
   "execution_count": 2,
   "metadata": {},
   "outputs": [
    {
     "data": {
      "text/html": [
       "<div>\n",
       "<style scoped>\n",
       "    .dataframe tbody tr th:only-of-type {\n",
       "        vertical-align: middle;\n",
       "    }\n",
       "\n",
       "    .dataframe tbody tr th {\n",
       "        vertical-align: top;\n",
       "    }\n",
       "\n",
       "    .dataframe thead th {\n",
       "        text-align: right;\n",
       "    }\n",
       "</style>\n",
       "<table border=\"1\" class=\"dataframe\">\n",
       "  <thead>\n",
       "    <tr style=\"text-align: right;\">\n",
       "      <th></th>\n",
       "      <th>Mkt-RF</th>\n",
       "      <th>SMB</th>\n",
       "      <th>HML</th>\n",
       "      <th>RMW</th>\n",
       "      <th>CMA</th>\n",
       "      <th>RF</th>\n",
       "    </tr>\n",
       "    <tr>\n",
       "      <th>Date</th>\n",
       "      <th></th>\n",
       "      <th></th>\n",
       "      <th></th>\n",
       "      <th></th>\n",
       "      <th></th>\n",
       "      <th></th>\n",
       "    </tr>\n",
       "  </thead>\n",
       "  <tbody>\n",
       "    <tr>\n",
       "      <th>2000-01</th>\n",
       "      <td>-0.0474</td>\n",
       "      <td>0.0444</td>\n",
       "      <td>-0.0191</td>\n",
       "      <td>-0.0631</td>\n",
       "      <td>0.0475</td>\n",
       "      <td>0.0041</td>\n",
       "    </tr>\n",
       "    <tr>\n",
       "      <th>2000-02</th>\n",
       "      <td>0.0245</td>\n",
       "      <td>0.1834</td>\n",
       "      <td>-0.0970</td>\n",
       "      <td>-0.1873</td>\n",
       "      <td>-0.0036</td>\n",
       "      <td>0.0043</td>\n",
       "    </tr>\n",
       "    <tr>\n",
       "      <th>2000-03</th>\n",
       "      <td>0.0520</td>\n",
       "      <td>-0.1535</td>\n",
       "      <td>0.0817</td>\n",
       "      <td>0.1182</td>\n",
       "      <td>-0.0165</td>\n",
       "      <td>0.0047</td>\n",
       "    </tr>\n",
       "    <tr>\n",
       "      <th>2000-04</th>\n",
       "      <td>-0.0640</td>\n",
       "      <td>-0.0501</td>\n",
       "      <td>0.0726</td>\n",
       "      <td>0.0766</td>\n",
       "      <td>0.0565</td>\n",
       "      <td>0.0046</td>\n",
       "    </tr>\n",
       "    <tr>\n",
       "      <th>2000-05</th>\n",
       "      <td>-0.0442</td>\n",
       "      <td>-0.0384</td>\n",
       "      <td>0.0481</td>\n",
       "      <td>0.0417</td>\n",
       "      <td>0.0130</td>\n",
       "      <td>0.0050</td>\n",
       "    </tr>\n",
       "  </tbody>\n",
       "</table>\n",
       "</div>"
      ],
      "text/plain": [
       "         Mkt-RF     SMB     HML     RMW     CMA      RF\n",
       "Date                                                   \n",
       "2000-01 -0.0474  0.0444 -0.0191 -0.0631  0.0475  0.0041\n",
       "2000-02  0.0245  0.1834 -0.0970 -0.1873 -0.0036  0.0043\n",
       "2000-03  0.0520 -0.1535  0.0817  0.1182 -0.0165  0.0047\n",
       "2000-04 -0.0640 -0.0501  0.0726  0.0766  0.0565  0.0046\n",
       "2000-05 -0.0442 -0.0384  0.0481  0.0417  0.0130  0.0050"
      ]
     },
     "execution_count": 2,
     "metadata": {},
     "output_type": "execute_result"
    }
   ],
   "source": [
    "from pandas_datareader import DataReader as pdr\n",
    "ff = pdr('F-F_Research_Data_5_Factors_2x3', \"famafrench\", start=\"2000-01\")[0] / 100\n",
    "ff.head()"
   ]
  },
  {
   "cell_type": "code",
   "execution_count": null,
   "metadata": {},
   "outputs": [],
   "source": [
    "; platform_system == \"Windows\""
   ]
  },
  {
   "cell_type": "code",
   "execution_count": 4,
   "metadata": {},
   "outputs": [],
   "source": [
    "from sqlalchemy import create_engine\n",
    "import pandas as pd\n",
    "from modules.backtest import cumplot, mvplot, regress\n",
    "import datapane as dp"
   ]
  },
  {
   "cell_type": "code",
   "execution_count": 5,
   "metadata": {},
   "outputs": [],
   "source": [
    "with create_engine(\"sqlite:///files/mydata.db\").connect() as conn:\n",
    "    rets = pd.read_sql(\"select * from model1\", conn)\n",
    "    rets[\"market\"] = pd.read_sql(\"select market from market\", conn)\n",
    "    rets[\"rf\"] = pd.read_sql(\"select rf from market\", conn)"
   ]
  },
  {
   "cell_type": "code",
   "execution_count": 6,
   "metadata": {},
   "outputs": [
    {
     "data": {
      "text/html": [
       "<div>\n",
       "<style scoped>\n",
       "    .dataframe tbody tr th:only-of-type {\n",
       "        vertical-align: middle;\n",
       "    }\n",
       "\n",
       "    .dataframe tbody tr th {\n",
       "        vertical-align: top;\n",
       "    }\n",
       "\n",
       "    .dataframe thead th {\n",
       "        text-align: right;\n",
       "    }\n",
       "</style>\n",
       "<table border=\"1\" class=\"dataframe\">\n",
       "  <thead>\n",
       "    <tr style=\"text-align: right;\">\n",
       "      <th></th>\n",
       "      <th>date</th>\n",
       "      <th>best</th>\n",
       "      <th>worst</th>\n",
       "      <th>market</th>\n",
       "      <th>rf</th>\n",
       "    </tr>\n",
       "  </thead>\n",
       "  <tbody>\n",
       "    <tr>\n",
       "      <th>0</th>\n",
       "      <td>2005-01</td>\n",
       "      <td>-0.008444</td>\n",
       "      <td>-0.109462</td>\n",
       "      <td>-0.0260</td>\n",
       "      <td>0.0016</td>\n",
       "    </tr>\n",
       "    <tr>\n",
       "      <th>1</th>\n",
       "      <td>2005-02</td>\n",
       "      <td>0.018043</td>\n",
       "      <td>-0.064880</td>\n",
       "      <td>0.0205</td>\n",
       "      <td>0.0016</td>\n",
       "    </tr>\n",
       "    <tr>\n",
       "      <th>2</th>\n",
       "      <td>2005-03</td>\n",
       "      <td>-0.014069</td>\n",
       "      <td>-0.136834</td>\n",
       "      <td>-0.0176</td>\n",
       "      <td>0.0021</td>\n",
       "    </tr>\n",
       "    <tr>\n",
       "      <th>3</th>\n",
       "      <td>2005-04</td>\n",
       "      <td>-0.034119</td>\n",
       "      <td>-0.087856</td>\n",
       "      <td>-0.0240</td>\n",
       "      <td>0.0021</td>\n",
       "    </tr>\n",
       "    <tr>\n",
       "      <th>4</th>\n",
       "      <td>2005-05</td>\n",
       "      <td>0.038612</td>\n",
       "      <td>0.068850</td>\n",
       "      <td>0.0389</td>\n",
       "      <td>0.0024</td>\n",
       "    </tr>\n",
       "  </tbody>\n",
       "</table>\n",
       "</div>"
      ],
      "text/plain": [
       "      date      best     worst  market      rf\n",
       "0  2005-01 -0.008444 -0.109462 -0.0260  0.0016\n",
       "1  2005-02  0.018043 -0.064880  0.0205  0.0016\n",
       "2  2005-03 -0.014069 -0.136834 -0.0176  0.0021\n",
       "3  2005-04 -0.034119 -0.087856 -0.0240  0.0021\n",
       "4  2005-05  0.038612  0.068850  0.0389  0.0024"
      ]
     },
     "execution_count": 6,
     "metadata": {},
     "output_type": "execute_result"
    }
   ],
   "source": [
    "rets.head()"
   ]
  }
 ],
 "metadata": {
  "kernelspec": {
   "display_name": "Python 3",
   "language": "python",
   "name": "python3"
  },
  "language_info": {
   "codemirror_mode": {
    "name": "ipython",
    "version": 3
   },
   "file_extension": ".py",
   "mimetype": "text/x-python",
   "name": "python",
   "nbconvert_exporter": "python",
   "pygments_lexer": "ipython3",
   "version": "3.10.7"
  },
  "orig_nbformat": 4,
  "vscode": {
   "interpreter": {
    "hash": "fde46c13439050da17ff960cfbfb27519ac693264eff9f61b85b21506eee5af7"
   }
  }
 },
 "nbformat": 4,
 "nbformat_minor": 2
}
