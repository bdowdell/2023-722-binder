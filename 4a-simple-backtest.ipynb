{
 "cells": [
  {
   "cell_type": "code",
   "execution_count": 6,
   "metadata": {},
   "outputs": [],
   "source": [
    "import pandas as pd\n",
    "import pymssql\n",
    "from sqlalchemy import create_engine\n",
    "from sklearn.linear_model import LinearRegression"
   ]
  },
  {
   "cell_type": "code",
   "execution_count": 7,
   "metadata": {},
   "outputs": [],
   "source": [
    "server = \"mssql-82792-0.cloudclusters.net:16272\"\n",
    "username = \"user\"\n",
    "password = \"RiceOwls1912\" \n",
    "database = \"ghz\"\n",
    "string = \"mssql+pymssql://\" + username + \":\" + password + \"@\" + server + \"/\" + database\n",
    "\n",
    "conn = create_engine(string).connect()"
   ]
  },
  {
   "cell_type": "code",
   "execution_count": 90,
   "metadata": {},
   "outputs": [
    {
     "data": {
      "text/plain": [
       "array([-9.42292260e-03, -2.19168243e-03, -2.89661059e-03,  2.48669564e-03,\n",
       "       -2.32594358e-03,  5.28586910e-03,  4.13043399e-02, -5.29134900e-04,\n",
       "       -3.26574510e-03, -3.97754539e-03, -2.66492257e-03,  1.25701467e-05,\n",
       "        2.63392473e-05])"
      ]
     },
     "execution_count": 90,
     "metadata": {},
     "output_type": "execute_result"
    }
   ],
   "source": [
    "model.coef_"
   ]
  },
  {
   "cell_type": "code",
   "execution_count": 63,
   "metadata": {},
   "outputs": [],
   "source": [
    "df = pd.read_sql(\n",
    "    \"\"\"\n",
    "    select date, ticker, acc, agr, beta, bm, ep, gma, idiovol,\n",
    "    lev, mom12m, mom1m, mve, operprof, roeq, ret\n",
    "    from data\n",
    "    order by date, ticker\n",
    "    \"\"\",\n",
    "    conn\n",
    "  )\n",
    "df = df.dropna()\n",
    "df = df.set_index([\"date\", \"ticker\"])"
   ]
  },
  {
   "cell_type": "code",
   "execution_count": 73,
   "metadata": {},
   "outputs": [],
   "source": [
    "later = df.index.get_level_values(\"date\")>=\"2010-01\"\n",
    "\n",
    "train = df[~later]\n",
    "test = df[later]"
   ]
  },
  {
   "cell_type": "code",
   "execution_count": 67,
   "metadata": {},
   "outputs": [],
   "source": [
    "predictors = [\n",
    "  \"acc\", \"agr\", \"beta\", \"bm\", \"ep\", \"gma\", \"idiovol\",\n",
    "  \"lev\", \"mom12m\", \"mom1m\", \"mve\", \"operprof\", \"roeq\"\n",
    "]\n",
    "\n",
    "Xtrain = train[predictors]\n",
    "ytrain = train[\"ret\"]\n",
    "\n",
    "model = LinearRegression()\n",
    "_ = model.fit(Xtrain, ytrain)"
   ]
  },
  {
   "cell_type": "code",
   "execution_count": null,
   "metadata": {},
   "outputs": [],
   "source": [
    "print(model.intercept_)\n",
    "\n",
    "coefs = pd.Series(model.coef_, index=predictors)\n",
    "coefs"
   ]
  },
  {
   "cell_type": "code",
   "execution_count": 75,
   "metadata": {},
   "outputs": [],
   "source": [
    "Xtest = test[predictors]\n",
    "\n",
    "ypredict = model.predict(Xtest)\n",
    "ypredict = pd.Series(ypredict, index=test.index)"
   ]
  },
  {
   "cell_type": "code",
   "execution_count": 76,
   "metadata": {},
   "outputs": [],
   "source": [
    "cut = lambda x: pd.qcut(x, 5, labels=range(1, 6))\n",
    "quintiles = ypredict.groupby(\"date\", group_keys=False).apply(cut)\n",
    "quintiles.name = \"quintile\""
   ]
  },
  {
   "cell_type": "code",
   "execution_count": 83,
   "metadata": {},
   "outputs": [],
   "source": [
    "test = test.join(quintiles)"
   ]
  },
  {
   "cell_type": "code",
   "execution_count": 86,
   "metadata": {},
   "outputs": [
    {
     "data": {
      "text/html": [
       "<div>\n",
       "<style scoped>\n",
       "    .dataframe tbody tr th:only-of-type {\n",
       "        vertical-align: middle;\n",
       "    }\n",
       "\n",
       "    .dataframe tbody tr th {\n",
       "        vertical-align: top;\n",
       "    }\n",
       "\n",
       "    .dataframe thead th {\n",
       "        text-align: right;\n",
       "    }\n",
       "</style>\n",
       "<table border=\"1\" class=\"dataframe\">\n",
       "  <thead>\n",
       "    <tr style=\"text-align: right;\">\n",
       "      <th>quintile</th>\n",
       "      <th>1</th>\n",
       "      <th>2</th>\n",
       "      <th>3</th>\n",
       "      <th>4</th>\n",
       "      <th>5</th>\n",
       "    </tr>\n",
       "    <tr>\n",
       "      <th>date</th>\n",
       "      <th></th>\n",
       "      <th></th>\n",
       "      <th></th>\n",
       "      <th></th>\n",
       "      <th></th>\n",
       "    </tr>\n",
       "  </thead>\n",
       "  <tbody>\n",
       "    <tr>\n",
       "      <th>2010-01</th>\n",
       "      <td>-0.027476</td>\n",
       "      <td>-0.027824</td>\n",
       "      <td>-0.011851</td>\n",
       "      <td>0.006101</td>\n",
       "      <td>0.041327</td>\n",
       "    </tr>\n",
       "    <tr>\n",
       "      <th>2010-02</th>\n",
       "      <td>0.044193</td>\n",
       "      <td>0.040953</td>\n",
       "      <td>0.036378</td>\n",
       "      <td>0.040231</td>\n",
       "      <td>0.033047</td>\n",
       "    </tr>\n",
       "    <tr>\n",
       "      <th>2010-03</th>\n",
       "      <td>0.076036</td>\n",
       "      <td>0.071594</td>\n",
       "      <td>0.081333</td>\n",
       "      <td>0.078276</td>\n",
       "      <td>0.098675</td>\n",
       "    </tr>\n",
       "    <tr>\n",
       "      <th>2010-04</th>\n",
       "      <td>0.053192</td>\n",
       "      <td>0.071345</td>\n",
       "      <td>0.071672</td>\n",
       "      <td>0.080754</td>\n",
       "      <td>0.123110</td>\n",
       "    </tr>\n",
       "    <tr>\n",
       "      <th>2010-05</th>\n",
       "      <td>-0.088657</td>\n",
       "      <td>-0.075424</td>\n",
       "      <td>-0.070076</td>\n",
       "      <td>-0.079732</td>\n",
       "      <td>-0.089493</td>\n",
       "    </tr>\n",
       "  </tbody>\n",
       "</table>\n",
       "</div>"
      ],
      "text/plain": [
       "quintile         1         2         3         4         5\n",
       "date                                                      \n",
       "2010-01  -0.027476 -0.027824 -0.011851  0.006101  0.041327\n",
       "2010-02   0.044193  0.040953  0.036378  0.040231  0.033047\n",
       "2010-03   0.076036  0.071594  0.081333  0.078276  0.098675\n",
       "2010-04   0.053192  0.071345  0.071672  0.080754  0.123110\n",
       "2010-05  -0.088657 -0.075424 -0.070076 -0.079732 -0.089493"
      ]
     },
     "execution_count": 86,
     "metadata": {},
     "output_type": "execute_result"
    }
   ],
   "source": [
    "\n",
    "rets = test.reset_index().groupby([\"date\", \"quintile\"]).ret.mean()\n",
    "rets = rets.unstack()\n",
    "rets.head()"
   ]
  },
  {
   "cell_type": "code",
   "execution_count": 87,
   "metadata": {},
   "outputs": [
    {
     "data": {
      "text/plain": [
       "quintile\n",
       "1    0.011785\n",
       "2    0.012492\n",
       "3    0.012492\n",
       "4    0.013040\n",
       "5    0.014558\n",
       "dtype: float64"
      ]
     },
     "execution_count": 87,
     "metadata": {},
     "output_type": "execute_result"
    }
   ],
   "source": [
    "rets.mean()"
   ]
  },
  {
   "cell_type": "code",
   "execution_count": null,
   "metadata": {},
   "outputs": [],
   "source": []
  }
 ],
 "metadata": {
  "kernelspec": {
   "display_name": "venv",
   "language": "python",
   "name": "python3"
  },
  "language_info": {
   "codemirror_mode": {
    "name": "ipython",
    "version": 3
   },
   "file_extension": ".py",
   "mimetype": "text/x-python",
   "name": "python",
   "nbconvert_exporter": "python",
   "pygments_lexer": "ipython3",
   "version": "3.10.3"
  },
  "orig_nbformat": 4,
  "vscode": {
   "interpreter": {
    "hash": "bc4fc7d346833f4a6758cbae85d5d18a61786ebfa0898ae7657380afbd1c29df"
   }
  }
 },
 "nbformat": 4,
 "nbformat_minor": 2
}
