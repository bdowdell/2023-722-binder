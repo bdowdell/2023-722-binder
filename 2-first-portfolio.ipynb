{
 "cells": [
  {
   "cell_type": "code",
   "execution_count": 12,
   "metadata": {},
   "outputs": [],
   "source": [
    "import pandas as pd\n",
    "import pymssql\n",
    "from sqlalchemy import create_engine\n",
    "\n",
    "server = 'fs.rice.edu'\n",
    "database = 'stocks'\n",
    "username = 'stocks'\n",
    "password = '6LAZH1'\n",
    "\n",
    "string = \"mssql+pymssql://\" + username + \":\" + password + \"@\" + server + \"/\" + database \n",
    "conn = create_engine(string).connect()"
   ]
  },
  {
   "cell_type": "code",
   "execution_count": 13,
   "metadata": {},
   "outputs": [],
   "source": [
    "quarterly = pd.read_sql(\n",
    "    \"\"\"\n",
    "    select datekey, reportperiod, ticker, netinc, equity\n",
    "    from sf1\n",
    "    where dimension='ARQ' and equity>0\n",
    "    order by ticker, datekey\n",
    "    \"\"\",\n",
    "    conn\n",
    ")\n",
    "quarterly = quarterly.dropna()"
   ]
  },
  {
   "cell_type": "code",
   "execution_count": 14,
   "metadata": {},
   "outputs": [],
   "source": [
    "quarterly[\"equitylag\"] = quarterly.groupby(\"ticker\").equity.shift()\n",
    "quarterly[\"roe\"] = quarterly.netinc / quarterly.equitylag\n",
    "\n",
    "# save last report for each firm\n",
    "quarterly = quarterly.groupby(\"ticker\").last()\n",
    "quarterly = quarterly[quarterly.reportperiod.astype(str)>=\"2022-06-01\"]\n",
    "\n",
    "# drop variables other than roe and ticker (ticker=index)\n",
    "quarterly = quarterly[[\"roe\"]]"
   ]
  },
  {
   "cell_type": "code",
   "execution_count": 15,
   "metadata": {},
   "outputs": [],
   "source": [
    "daily1 = pd.read_sql(\n",
    "    \"\"\" \n",
    "    select date, ticker, pb, marketcap\n",
    "    from daily \n",
    "    where date>='2023-01-01' and pb>0\n",
    "    order by ticker, date\n",
    "    \"\"\",\n",
    "    conn\n",
    ")\n",
    "daily1 = daily1.dropna()\n",
    "daily1 = daily1.groupby(\"ticker\").last()"
   ]
  },
  {
   "cell_type": "code",
   "execution_count": 16,
   "metadata": {},
   "outputs": [],
   "source": [
    "daily2 = pd.read_sql(\n",
    "    \"\"\" \n",
    "    select date, ticker, close_ as price\n",
    "    from sep \n",
    "    where date>='2023-01-01'\n",
    "    order by ticker, date\n",
    "    \"\"\",\n",
    "    conn\n",
    ")\n",
    "daily2 = daily2.dropna()\n",
    "daily2 = daily2.groupby(\"ticker\").last()"
   ]
  },
  {
   "cell_type": "code",
   "execution_count": 17,
   "metadata": {},
   "outputs": [
    {
     "name": "stdout",
     "output_type": "stream",
     "text": [
      "<class 'pandas.core.frame.DataFrame'>\n",
      "Index: 3606 entries, A to YTPG\n",
      "Data columns (total 6 columns):\n",
      " #   Column     Non-Null Count  Dtype  \n",
      "---  ------     --------------  -----  \n",
      " 0   roe        3352 non-null   float64\n",
      " 1   date       3283 non-null   object \n",
      " 2   pb         3283 non-null   float64\n",
      " 3   marketcap  3283 non-null   float64\n",
      " 4   date       3541 non-null   object \n",
      " 5   price      3541 non-null   float64\n",
      "dtypes: float64(4), object(2)\n",
      "memory usage: 197.2+ KB\n"
     ]
    }
   ],
   "source": [
    "df = pd.concat((quarterly, daily1, daily2), axis=1)\n",
    "df.info()"
   ]
  },
  {
   "cell_type": "code",
   "execution_count": 18,
   "metadata": {},
   "outputs": [
    {
     "data": {
      "text/plain": [
       "(2579, 6)"
      ]
     },
     "execution_count": 18,
     "metadata": {},
     "output_type": "execute_result"
    }
   ],
   "source": [
    "df = df[df.price>5]\n",
    "df.shape"
   ]
  },
  {
   "cell_type": "code",
   "execution_count": 19,
   "metadata": {},
   "outputs": [],
   "source": [
    "df[\"size_rank\"] = df.marketcap.rank(ascending=False)\n",
    "df = df[df.size_rank > 500]"
   ]
  },
  {
   "cell_type": "code",
   "execution_count": 29,
   "metadata": {},
   "outputs": [
    {
     "data": {
      "text/plain": [
       "109"
      ]
     },
     "execution_count": 29,
     "metadata": {},
     "output_type": "execute_result"
    }
   ],
   "source": [
    "filter1 = df.roe >= df.roe.quantile(0.7)\n",
    "filter2 = df.pb <= df.pb.quantile(0.3)\n",
    "df = df[filter1 & filter2].copy()\n",
    "ticks = df.index.to_list()\n",
    "len(ticks)"
   ]
  },
  {
   "cell_type": "code",
   "execution_count": 25,
   "metadata": {},
   "outputs": [
    {
     "name": "stdout",
     "output_type": "stream",
     "text": [
      "Collecting alpaca-py\n",
      "  Using cached alpaca_py-0.7.0-py3-none-any.whl (95 kB)\n",
      "Requirement already satisfied: pandas<2.0.0,>=1.3.5 in c:\\users\\kerry\\appdata\\local\\programs\\python\\python310\\lib\\site-packages (from alpaca-py) (1.4.3)\n",
      "Collecting msgpack<2.0.0,>=1.0.3\n",
      "  Using cached msgpack-1.0.4-cp310-cp310-win_amd64.whl (61 kB)\n",
      "Collecting websockets<11.0,>=10.2\n",
      "  Using cached websockets-10.4-cp310-cp310-win_amd64.whl (101 kB)\n",
      "Collecting pydantic<2.0.0,>=1.9.0\n",
      "  Using cached pydantic-1.10.4-cp310-cp310-win_amd64.whl (2.1 MB)\n",
      "Collecting sseclient-py<2.0.0,>=1.7.2\n",
      "  Using cached sseclient_py-1.7.2-py2.py3-none-any.whl (8.4 kB)\n",
      "Requirement already satisfied: requests<3.0.0,>=2.27.1 in c:\\users\\kerry\\appdata\\local\\programs\\python\\python310\\lib\\site-packages (from alpaca-py) (2.28.1)\n",
      "Requirement already satisfied: numpy>=1.21.0 in c:\\users\\kerry\\appdata\\local\\programs\\python\\python310\\lib\\site-packages (from pandas<2.0.0,>=1.3.5->alpaca-py) (1.23.2)\n",
      "Requirement already satisfied: pytz>=2020.1 in c:\\users\\kerry\\appdata\\local\\programs\\python\\python310\\lib\\site-packages (from pandas<2.0.0,>=1.3.5->alpaca-py) (2022.2.1)\n",
      "Requirement already satisfied: python-dateutil>=2.8.1 in c:\\users\\kerry\\appdata\\local\\programs\\python\\python310\\lib\\site-packages (from pandas<2.0.0,>=1.3.5->alpaca-py) (2.8.2)\n",
      "Collecting typing-extensions>=4.2.0\n",
      "  Using cached typing_extensions-4.4.0-py3-none-any.whl (26 kB)\n",
      "Requirement already satisfied: certifi>=2017.4.17 in c:\\users\\kerry\\appdata\\local\\programs\\python\\python310\\lib\\site-packages (from requests<3.0.0,>=2.27.1->alpaca-py) (2022.6.15)\n",
      "Requirement already satisfied: idna<4,>=2.5 in c:\\users\\kerry\\appdata\\local\\programs\\python\\python310\\lib\\site-packages (from requests<3.0.0,>=2.27.1->alpaca-py) (3.3)\n",
      "Requirement already satisfied: charset-normalizer<3,>=2 in c:\\users\\kerry\\appdata\\local\\programs\\python\\python310\\lib\\site-packages (from requests<3.0.0,>=2.27.1->alpaca-py) (2.1.0)\n",
      "Requirement already satisfied: urllib3<1.27,>=1.21.1 in c:\\users\\kerry\\appdata\\local\\programs\\python\\python310\\lib\\site-packages (from requests<3.0.0,>=2.27.1->alpaca-py) (1.26.11)\n",
      "Requirement already satisfied: six>=1.5 in c:\\users\\kerry\\appdata\\local\\programs\\python\\python310\\lib\\site-packages (from python-dateutil>=2.8.1->pandas<2.0.0,>=1.3.5->alpaca-py) (1.16.0)\n",
      "Installing collected packages: sseclient-py, msgpack, websockets, typing-extensions, pydantic, alpaca-py\n",
      "Successfully installed alpaca-py-0.7.0 msgpack-1.0.4 pydantic-1.10.4 sseclient-py-1.7.2 typing-extensions-4.4.0 websockets-10.4\n"
     ]
    },
    {
     "name": "stderr",
     "output_type": "stream",
     "text": [
      "\n",
      "[notice] A new release of pip available: 22.2.2 -> 22.3.1\n",
      "[notice] To update, run: python.exe -m pip install --upgrade pip\n"
     ]
    }
   ],
   "source": [
    "!pip install --upgrade alpaca-py"
   ]
  },
  {
   "cell_type": "code",
   "execution_count": 26,
   "metadata": {},
   "outputs": [],
   "source": [
    "from alpaca.data import StockHistoricalDataClient\n",
    "from alpaca.trading.client import TradingClient\n",
    "from alpaca.data.requests import StockLatestQuoteRequest\n",
    "from alpaca.trading.requests import MarketOrderRequest\n",
    "from alpaca.trading.enums import OrderSide, TimeInForce\n",
    "\n",
    "KEY = \"your_key\"\n",
    "SECRET_KEY = \"your_secret_key\"\n",
    "\n",
    "data_client = StockHistoricalDataClient(KEY, SECRET_KEY)\n",
    "trading_client = TradingClient(KEY, SECRET_KEY, paper=True)"
   ]
  },
  {
   "cell_type": "code",
   "execution_count": 30,
   "metadata": {},
   "outputs": [
    {
     "name": "stdout",
     "output_type": "stream",
     "text": [
      "<class 'pandas.core.frame.DataFrame'>\n",
      "Index: 109 entries, TOL to SCHL\n",
      "Data columns (total 9 columns):\n",
      " #   Column        Non-Null Count  Dtype              \n",
      "---  ------        --------------  -----              \n",
      " 0   timestamp     109 non-null    datetime64[ns, UTC]\n",
      " 1   ask_exchange  109 non-null    object             \n",
      " 2   ask_price     109 non-null    object             \n",
      " 3   ask_size      109 non-null    object             \n",
      " 4   bid_exchange  109 non-null    object             \n",
      " 5   bid_price     109 non-null    object             \n",
      " 6   bid_size      109 non-null    object             \n",
      " 7   conditions    109 non-null    object             \n",
      " 8   tape          109 non-null    object             \n",
      "dtypes: datetime64[ns, UTC](1), object(8)\n",
      "memory usage: 8.5+ KB\n"
     ]
    }
   ],
   "source": [
    "params = StockLatestQuoteRequest(symbol_or_symbols=ticks)\n",
    "quotes = data_client.get_stock_latest_quote(params)\n",
    "\n",
    "# convert to dataframe\n",
    "\n",
    "sers = [pd.Series(dict(x)) for x in quotes.values()]\n",
    "df = pd.concat(sers, axis=1)\n",
    "df.columns = [x for x in quotes]\n",
    "df = df.T\n",
    "df = df.drop(columns=[\"symbol\"])\n",
    "df.info()"
   ]
  },
  {
   "cell_type": "code",
   "execution_count": 32,
   "metadata": {},
   "outputs": [],
   "source": [
    "df[\"trade\"] = df.ask_price.apply(lambda p: int(1000/p) if p !=0 else 0)\n",
    "ticks = df[df.trade>0].index.to_list()"
   ]
  },
  {
   "cell_type": "code",
   "execution_count": null,
   "metadata": {},
   "outputs": [],
   "source": [
    "for tick in ticks: \n",
    "    market_order_data = MarketOrderRequest(\n",
    "        symbol=tick,\n",
    "        qty=df.trade.loc[tick],\n",
    "        side=OrderSide.BUY,\n",
    "        time_in_force=TimeInForce.DAY\n",
    "    )\n",
    "    market_order = trading_client.submit_order(\n",
    "        order_data=market_order_data\n",
    "    )"
   ]
  }
 ],
 "metadata": {
  "kernelspec": {
   "display_name": "Python 3",
   "language": "python",
   "name": "python3"
  },
  "language_info": {
   "codemirror_mode": {
    "name": "ipython",
    "version": 3
   },
   "file_extension": ".py",
   "mimetype": "text/x-python",
   "name": "python",
   "nbconvert_exporter": "python",
   "pygments_lexer": "ipython3",
   "version": "3.10.3"
  },
  "orig_nbformat": 4,
  "vscode": {
   "interpreter": {
    "hash": "a98f34b6005ae2330f135078450db511ef8910ecc790235ef0560aa88aa6ce12"
   }
  }
 },
 "nbformat": 4,
 "nbformat_minor": 2
}
