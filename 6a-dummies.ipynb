{
 "cells": [
  {
   "cell_type": "code",
   "execution_count": 17,
   "metadata": {},
   "outputs": [],
   "source": [
    "import pandas as pd\n",
    "import numpy as np\n",
    "from sklearn.linear_model import LinearRegression\n",
    "from sklearn.compose import make_column_transformer\n",
    "from sklearn.preprocessing import OneHotEncoder\n",
    "from sklearn.pipeline import make_pipeline\n",
    "import statsmodels.formula.api as smf\n",
    "\n",
    "model = LinearRegression(fit_intercept=False)"
   ]
  },
  {
   "attachments": {},
   "cell_type": "markdown",
   "metadata": {},
   "source": [
    "#### Example dataframe"
   ]
  },
  {
   "cell_type": "code",
   "execution_count": 7,
   "metadata": {},
   "outputs": [
    {
     "data": {
      "text/html": [
       "<div>\n",
       "<style scoped>\n",
       "    .dataframe tbody tr th:only-of-type {\n",
       "        vertical-align: middle;\n",
       "    }\n",
       "\n",
       "    .dataframe tbody tr th {\n",
       "        vertical-align: top;\n",
       "    }\n",
       "\n",
       "    .dataframe thead th {\n",
       "        text-align: right;\n",
       "    }\n",
       "</style>\n",
       "<table border=\"1\" class=\"dataframe\">\n",
       "  <thead>\n",
       "    <tr style=\"text-align: right;\">\n",
       "      <th></th>\n",
       "      <th>cat</th>\n",
       "      <th>x</th>\n",
       "      <th>y</th>\n",
       "    </tr>\n",
       "  </thead>\n",
       "  <tbody>\n",
       "    <tr>\n",
       "      <th>0</th>\n",
       "      <td>a</td>\n",
       "      <td>1.509802</td>\n",
       "      <td>-0.936015</td>\n",
       "    </tr>\n",
       "    <tr>\n",
       "      <th>1</th>\n",
       "      <td>b</td>\n",
       "      <td>0.849288</td>\n",
       "      <td>-0.444733</td>\n",
       "    </tr>\n",
       "    <tr>\n",
       "      <th>2</th>\n",
       "      <td>a</td>\n",
       "      <td>-2.673850</td>\n",
       "      <td>0.910589</td>\n",
       "    </tr>\n",
       "    <tr>\n",
       "      <th>3</th>\n",
       "      <td>c</td>\n",
       "      <td>2.161368</td>\n",
       "      <td>0.531697</td>\n",
       "    </tr>\n",
       "    <tr>\n",
       "      <th>4</th>\n",
       "      <td>b</td>\n",
       "      <td>-1.509027</td>\n",
       "      <td>-0.263009</td>\n",
       "    </tr>\n",
       "    <tr>\n",
       "      <th>5</th>\n",
       "      <td>c</td>\n",
       "      <td>-0.940353</td>\n",
       "      <td>0.566537</td>\n",
       "    </tr>\n",
       "    <tr>\n",
       "      <th>6</th>\n",
       "      <td>a</td>\n",
       "      <td>-1.911003</td>\n",
       "      <td>-0.906917</td>\n",
       "    </tr>\n",
       "    <tr>\n",
       "      <th>7</th>\n",
       "      <td>c</td>\n",
       "      <td>-0.242880</td>\n",
       "      <td>-1.446628</td>\n",
       "    </tr>\n",
       "    <tr>\n",
       "      <th>8</th>\n",
       "      <td>b</td>\n",
       "      <td>1.762018</td>\n",
       "      <td>-0.709754</td>\n",
       "    </tr>\n",
       "    <tr>\n",
       "      <th>9</th>\n",
       "      <td>b</td>\n",
       "      <td>-0.433713</td>\n",
       "      <td>0.041794</td>\n",
       "    </tr>\n",
       "  </tbody>\n",
       "</table>\n",
       "</div>"
      ],
      "text/plain": [
       "  cat         x         y\n",
       "0   a  1.509802 -0.936015\n",
       "1   b  0.849288 -0.444733\n",
       "2   a -2.673850  0.910589\n",
       "3   c  2.161368  0.531697\n",
       "4   b -1.509027 -0.263009\n",
       "5   c -0.940353  0.566537\n",
       "6   a -1.911003 -0.906917\n",
       "7   c -0.242880 -1.446628\n",
       "8   b  1.762018 -0.709754\n",
       "9   b -0.433713  0.041794"
      ]
     },
     "execution_count": 7,
     "metadata": {},
     "output_type": "execute_result"
    }
   ],
   "source": [
    "df = pd.DataFrame(columns=[\"cat\", \"x\", \"y\"])\n",
    "df[\"x\"] = np.random.normal(size=10)\n",
    "df[\"y\"] = np.random.normal(size=10)\n",
    "df[\"cat\"] = [\"a\", \"b\", \"a\", \"c\", \"b\", \"c\", \"a\", \"c\", \"b\", \"b\"]\n",
    "df"
   ]
  },
  {
   "attachments": {},
   "cell_type": "markdown",
   "metadata": {},
   "source": [
    "#### Method 1: Pandas get dummies"
   ]
  },
  {
   "cell_type": "code",
   "execution_count": 20,
   "metadata": {},
   "outputs": [
    {
     "data": {
      "text/plain": [
       "array([-0.4548642 , -0.32043103, -0.07030063, -0.14056664])"
      ]
     },
     "execution_count": 20,
     "metadata": {},
     "output_type": "execute_result"
    }
   ],
   "source": [
    "d2 = df.join(pd.get_dummies(df.cat))\n",
    "\n",
    "model.fit(\n",
    "    X=d2[[\"a\", \"b\", \"c\", \"x\"]],\n",
    "    y=d2[\"y\"]\n",
    ")\n",
    "model.coef_"
   ]
  },
  {
   "attachments": {},
   "cell_type": "markdown",
   "metadata": {},
   "source": [
    "#### Method 2: One hot encoder"
   ]
  },
  {
   "cell_type": "code",
   "execution_count": 21,
   "metadata": {},
   "outputs": [
    {
     "data": {
      "text/plain": [
       "array([-0.4548642 , -0.32043103, -0.07030063, -0.14056664])"
      ]
     },
     "execution_count": 21,
     "metadata": {},
     "output_type": "execute_result"
    }
   ],
   "source": [
    "transform = make_column_transformer(\n",
    "    (OneHotEncoder(), [\"cat\"]),\n",
    "    remainder=\"passthrough\"\n",
    ")\n",
    "pipe = make_pipeline(transform, model)\n",
    "\n",
    "pipe.fit(X=df[[\"x\", \"cat\"]], y=df[\"y\"])\n",
    "model.coef_"
   ]
  }
 ],
 "metadata": {
  "kernelspec": {
   "display_name": "venv",
   "language": "python",
   "name": "python3"
  },
  "language_info": {
   "codemirror_mode": {
    "name": "ipython",
    "version": 3
   },
   "file_extension": ".py",
   "mimetype": "text/x-python",
   "name": "python",
   "nbconvert_exporter": "python",
   "pygments_lexer": "ipython3",
   "version": "3.10.8"
  },
  "orig_nbformat": 4,
  "vscode": {
   "interpreter": {
    "hash": "b4698d42f8646fe93dd4243912c06191667cc35ff6930cd07513e2a757742af9"
   }
  }
 },
 "nbformat": 4,
 "nbformat_minor": 2
}
