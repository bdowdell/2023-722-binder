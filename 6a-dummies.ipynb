{
 "cells": [
  {
   "cell_type": "code",
   "execution_count": 8,
   "metadata": {},
   "outputs": [],
   "source": [
    "import pandas as pd\n",
    "import numpy as np\n",
    "from sklearn.linear_model import LinearRegression\n",
    "from sklearn.compose import make_column_transformer\n",
    "from sklearn.preprocessing import OneHotEncoder\n",
    "from sklearn.preprocessing import PolynomialFeatures\n",
    "from sklearn.pipeline import make_pipeline\n",
    "import statsmodels.formula.api as smf"
   ]
  },
  {
   "attachments": {},
   "cell_type": "markdown",
   "metadata": {},
   "source": [
    "#### Example dataframe"
   ]
  },
  {
   "cell_type": "code",
   "execution_count": 9,
   "metadata": {},
   "outputs": [
    {
     "data": {
      "text/html": [
       "<div>\n",
       "<style scoped>\n",
       "    .dataframe tbody tr th:only-of-type {\n",
       "        vertical-align: middle;\n",
       "    }\n",
       "\n",
       "    .dataframe tbody tr th {\n",
       "        vertical-align: top;\n",
       "    }\n",
       "\n",
       "    .dataframe thead th {\n",
       "        text-align: right;\n",
       "    }\n",
       "</style>\n",
       "<table border=\"1\" class=\"dataframe\">\n",
       "  <thead>\n",
       "    <tr style=\"text-align: right;\">\n",
       "      <th></th>\n",
       "      <th>cat</th>\n",
       "      <th>x</th>\n",
       "      <th>y</th>\n",
       "    </tr>\n",
       "  </thead>\n",
       "  <tbody>\n",
       "    <tr>\n",
       "      <th>0</th>\n",
       "      <td>a</td>\n",
       "      <td>0.804510</td>\n",
       "      <td>0.992378</td>\n",
       "    </tr>\n",
       "    <tr>\n",
       "      <th>1</th>\n",
       "      <td>b</td>\n",
       "      <td>-2.755097</td>\n",
       "      <td>-1.441087</td>\n",
       "    </tr>\n",
       "    <tr>\n",
       "      <th>2</th>\n",
       "      <td>a</td>\n",
       "      <td>1.913863</td>\n",
       "      <td>0.515150</td>\n",
       "    </tr>\n",
       "    <tr>\n",
       "      <th>3</th>\n",
       "      <td>c</td>\n",
       "      <td>-0.369528</td>\n",
       "      <td>0.793434</td>\n",
       "    </tr>\n",
       "    <tr>\n",
       "      <th>4</th>\n",
       "      <td>b</td>\n",
       "      <td>-0.168803</td>\n",
       "      <td>1.338463</td>\n",
       "    </tr>\n",
       "    <tr>\n",
       "      <th>5</th>\n",
       "      <td>c</td>\n",
       "      <td>-0.395155</td>\n",
       "      <td>0.318126</td>\n",
       "    </tr>\n",
       "    <tr>\n",
       "      <th>6</th>\n",
       "      <td>a</td>\n",
       "      <td>0.012188</td>\n",
       "      <td>0.495360</td>\n",
       "    </tr>\n",
       "    <tr>\n",
       "      <th>7</th>\n",
       "      <td>c</td>\n",
       "      <td>1.359083</td>\n",
       "      <td>0.090747</td>\n",
       "    </tr>\n",
       "    <tr>\n",
       "      <th>8</th>\n",
       "      <td>b</td>\n",
       "      <td>-0.456275</td>\n",
       "      <td>0.300795</td>\n",
       "    </tr>\n",
       "    <tr>\n",
       "      <th>9</th>\n",
       "      <td>b</td>\n",
       "      <td>-0.003572</td>\n",
       "      <td>0.182514</td>\n",
       "    </tr>\n",
       "  </tbody>\n",
       "</table>\n",
       "</div>"
      ],
      "text/plain": [
       "  cat         x         y\n",
       "0   a  0.804510  0.992378\n",
       "1   b -2.755097 -1.441087\n",
       "2   a  1.913863  0.515150\n",
       "3   c -0.369528  0.793434\n",
       "4   b -0.168803  1.338463\n",
       "5   c -0.395155  0.318126\n",
       "6   a  0.012188  0.495360\n",
       "7   c  1.359083  0.090747\n",
       "8   b -0.456275  0.300795\n",
       "9   b -0.003572  0.182514"
      ]
     },
     "execution_count": 9,
     "metadata": {},
     "output_type": "execute_result"
    }
   ],
   "source": [
    "df = pd.DataFrame(columns=[\"cat\", \"x\", \"y\"])\n",
    "df[\"x\"] = np.random.normal(size=10)\n",
    "df[\"y\"] = np.random.normal(size=10)\n",
    "df[\"cat\"] = [\"a\", \"b\", \"a\", \"c\", \"b\", \"c\", \"a\", \"c\", \"b\", \"b\"]\n",
    "df"
   ]
  },
  {
   "attachments": {},
   "cell_type": "markdown",
   "metadata": {},
   "source": [
    "#### Method 1: Pandas get dummies"
   ]
  },
  {
   "cell_type": "code",
   "execution_count": 10,
   "metadata": {},
   "outputs": [
    {
     "data": {
      "text/plain": [
       "array([0.32035272, 0.41793367, 0.32517241, 0.38154429])"
      ]
     },
     "execution_count": 10,
     "metadata": {},
     "output_type": "execute_result"
    }
   ],
   "source": [
    "d2 = df.join(pd.get_dummies(df.cat))\n",
    "\n",
    "model = LinearRegression(fit_intercept=False)\n",
    "\n",
    "model.fit(\n",
    "    X=d2[[\"a\", \"b\", \"c\", \"x\"]],\n",
    "    y=d2[\"y\"]\n",
    ")\n",
    "model.coef_"
   ]
  },
  {
   "attachments": {},
   "cell_type": "markdown",
   "metadata": {},
   "source": [
    "#### Method 2: One hot encoder"
   ]
  },
  {
   "cell_type": "code",
   "execution_count": 16,
   "metadata": {},
   "outputs": [
    {
     "data": {
      "text/plain": [
       "array([0.32035272, 0.41793367, 0.32517241, 0.38154429])"
      ]
     },
     "execution_count": 16,
     "metadata": {},
     "output_type": "execute_result"
    }
   ],
   "source": [
    "transform = make_column_transformer(\n",
    "    (OneHotEncoder(), [\"cat\"]),\n",
    "    remainder=\"passthrough\"\n",
    ")\n",
    "\n",
    "model = LinearRegression(fit_intercept=False)\n",
    "pipe = make_pipeline(transform, model)\n",
    "\n",
    "pipe.fit(\n",
    "    X=df[[\"cat\", \"x\"]], \n",
    "    y=df[\"y\"]\n",
    ")\n",
    "model.coef_"
   ]
  },
  {
   "attachments": {},
   "cell_type": "markdown",
   "metadata": {},
   "source": [
    "## Get dummies with polynomial features"
   ]
  },
  {
   "cell_type": "code",
   "execution_count": 12,
   "metadata": {},
   "outputs": [
    {
     "data": {
      "text/plain": [
       "array([ 0.35126888,  0.08845413,  0.10029103,  0.16252372,  0.13321931,\n",
       "        0.08845413,  0.        ,  0.        ,  0.69791192,  0.10029103,\n",
       "        0.        , -0.58679957,  0.16252372,  0.02210696, -0.42946344])"
      ]
     },
     "execution_count": 12,
     "metadata": {},
     "output_type": "execute_result"
    }
   ],
   "source": [
    "model = LinearRegression(fit_intercept=False)\n",
    "poly = PolynomialFeatures(degree=2)\n",
    "pipe = make_pipeline(poly, model)\n",
    "\n",
    "pipe.fit(\n",
    "    X=d2[[\"a\", \"b\", \"c\", \"x\"]],\n",
    "    y=d2[\"y\"]\n",
    ")\n",
    "model.coef_"
   ]
  },
  {
   "attachments": {},
   "cell_type": "markdown",
   "metadata": {},
   "source": [
    "## One hot encoder with polynomial features"
   ]
  },
  {
   "cell_type": "code",
   "execution_count": 19,
   "metadata": {},
   "outputs": [
    {
     "data": {
      "text/plain": [
       "array([ 0.35126888,  0.08845413,  0.10029103,  0.16252372,  0.13321931,\n",
       "        0.08845413,  0.        ,  0.        ,  0.69791192,  0.10029103,\n",
       "        0.        , -0.58679957,  0.16252372,  0.02210696, -0.42946344])"
      ]
     },
     "execution_count": 19,
     "metadata": {},
     "output_type": "execute_result"
    }
   ],
   "source": [
    "transform = make_column_transformer(\n",
    "    (OneHotEncoder(), [\"cat\"]),\n",
    "    remainder=\"passthrough\"\n",
    ")\n",
    "model = LinearRegression(fit_intercept=False)\n",
    "poly = PolynomialFeatures(degree=2)\n",
    "pipe = make_pipeline(transform, poly, model)\n",
    "pipe.fit(\n",
    "    X=df[[\"cat\", \"x\"]], \n",
    "    y=df[\"y\"]\n",
    ")\n",
    "model.coef_"
   ]
  }
 ],
 "metadata": {
  "kernelspec": {
   "display_name": "venv",
   "language": "python",
   "name": "python3"
  },
  "language_info": {
   "codemirror_mode": {
    "name": "ipython",
    "version": 3
   },
   "file_extension": ".py",
   "mimetype": "text/x-python",
   "name": "python",
   "nbconvert_exporter": "python",
   "pygments_lexer": "ipython3",
   "version": "3.10.8"
  },
  "orig_nbformat": 4,
  "vscode": {
   "interpreter": {
    "hash": "b4698d42f8646fe93dd4243912c06191667cc35ff6930cd07513e2a757742af9"
   }
  }
 },
 "nbformat": 4,
 "nbformat_minor": 2
}
