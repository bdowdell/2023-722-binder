{
 "cells": [
  {
   "cell_type": "code",
   "execution_count": 1,
   "metadata": {},
   "outputs": [],
   "source": [
    "import numpy as np\n",
    "import pandas as pd\n",
    "\n",
    "def stockTree(underlyingPrice, upReturn, numPeriods):\n",
    "    upMove = 1 + upReturn\n",
    "    prices = [[underlyingPrice*upMove**(t-2*i) for i in range(t+1)] for t in range(numPeriods+1)]\n",
    "    df = pd.DataFrame(prices).transpose()\n",
    "    df.columns = [f\"date {i}\" for i in df.columns]\n",
    "    return df \n",
    "\n",
    "def americanTree(underlyingPrice, strikePrice, interestRate, upReturn, numPeriods, optionType):\n",
    "    assert optionType in (\"call\", \"put\"), \"optionType must be call or put\"\n",
    "    def f(x):\n",
    "        if optionType == \"call\":\n",
    "            return np.maximum(np.array(x) - strikePrice, 0)\n",
    "        else:\n",
    "            return np.maximum(strikePrice - np.array(x), 0)\n",
    "    upMove = 1 + upReturn\n",
    "    downMove = 1 / upMove\n",
    "    prob = (1+interestRate-downMove) / (upMove-downMove)\n",
    "    pvFactor = 1 / (1 + interestRate)\n",
    "    \n",
    "    ## underlying price at last date\n",
    "    ST = [underlyingPrice*upMove**(numPeriods-2*i) for i in range(numPeriods+1)]\n",
    "\n",
    "    ## option price at last date\n",
    "    x = f(ST)\n",
    "\n",
    "    ## back up in the tree a period at a time\n",
    "    values = [x]\n",
    "    while len(x) > 1:\n",
    "\n",
    "        ## discounted expected values\n",
    "        x0 = pvFactor * (prob*x[:-1] + (1-prob)*x[1:])\n",
    "\n",
    "        ## early exercise values\n",
    "        t = len(x0) - 1\n",
    "        St = [underlyingPrice * upMove**(t - 2 * i) for i in range(t + 1)]\n",
    "\n",
    "        ## maximum of discounted expected values and early exercise values\n",
    "        x = np.maximum(x0, f(St))\n",
    "\n",
    "        ## store option values at first of lst\n",
    "        values.insert(0, x)\n",
    "    \n",
    "    df = pd.DataFrame(values).transpose()\n",
    "    df.columns = [f\"date {i}\" for i in df.columns]\n",
    "    return df"
   ]
  },
  {
   "attachments": {},
   "cell_type": "markdown",
   "metadata": {},
   "source": [
    "#### Example input parameters"
   ]
  },
  {
   "cell_type": "code",
   "execution_count": 2,
   "metadata": {},
   "outputs": [],
   "source": [
    "underlyingPrice = 50\n",
    "strikePrice = 50\n",
    "timeToMaturity = 1\n",
    "numPeriods = 6\n",
    "sigma = 0.4   # annual volatility\n",
    "r = 0.04      # annual risk-free rate"
   ]
  },
  {
   "attachments": {},
   "cell_type": "markdown",
   "metadata": {},
   "source": [
    "#### Calculated parameters"
   ]
  },
  {
   "cell_type": "code",
   "execution_count": 3,
   "metadata": {},
   "outputs": [],
   "source": [
    "dt = timeToMaturity / numPeriods\n",
    "upReturn = np.exp(sigma*np.sqrt(dt)) - 1   # single-period up return\n",
    "interestRate = np.log(1+r)*dt             # single-period interest rate"
   ]
  },
  {
   "cell_type": "markdown",
   "metadata": {},
   "source": [
    "#### Stock tree"
   ]
  },
  {
   "cell_type": "code",
   "execution_count": 4,
   "metadata": {},
   "outputs": [
    {
     "data": {
      "text/html": [
       "<div>\n",
       "<style scoped>\n",
       "    .dataframe tbody tr th:only-of-type {\n",
       "        vertical-align: middle;\n",
       "    }\n",
       "\n",
       "    .dataframe tbody tr th {\n",
       "        vertical-align: top;\n",
       "    }\n",
       "\n",
       "    .dataframe thead th {\n",
       "        text-align: right;\n",
       "    }\n",
       "</style>\n",
       "<table border=\"1\" class=\"dataframe\">\n",
       "  <thead>\n",
       "    <tr style=\"text-align: right;\">\n",
       "      <th></th>\n",
       "      <th>date 0</th>\n",
       "      <th>date 1</th>\n",
       "      <th>date 2</th>\n",
       "      <th>date 3</th>\n",
       "      <th>date 4</th>\n",
       "      <th>date 5</th>\n",
       "      <th>date 6</th>\n",
       "    </tr>\n",
       "  </thead>\n",
       "  <tbody>\n",
       "    <tr>\n",
       "      <th>0</th>\n",
       "      <td>50.0</td>\n",
       "      <td>58.869452</td>\n",
       "      <td>69.312249</td>\n",
       "      <td>81.607482</td>\n",
       "      <td>96.083756</td>\n",
       "      <td>113.127962</td>\n",
       "      <td>133.195624</td>\n",
       "    </tr>\n",
       "    <tr>\n",
       "      <th>1</th>\n",
       "      <td>NaN</td>\n",
       "      <td>42.466847</td>\n",
       "      <td>50.000000</td>\n",
       "      <td>58.869452</td>\n",
       "      <td>69.312249</td>\n",
       "      <td>81.607482</td>\n",
       "      <td>96.083756</td>\n",
       "    </tr>\n",
       "    <tr>\n",
       "      <th>2</th>\n",
       "      <td>NaN</td>\n",
       "      <td>NaN</td>\n",
       "      <td>36.068661</td>\n",
       "      <td>42.466847</td>\n",
       "      <td>50.000000</td>\n",
       "      <td>58.869452</td>\n",
       "      <td>69.312249</td>\n",
       "    </tr>\n",
       "    <tr>\n",
       "      <th>3</th>\n",
       "      <td>NaN</td>\n",
       "      <td>NaN</td>\n",
       "      <td>NaN</td>\n",
       "      <td>30.634446</td>\n",
       "      <td>36.068661</td>\n",
       "      <td>42.466847</td>\n",
       "      <td>50.000000</td>\n",
       "    </tr>\n",
       "    <tr>\n",
       "      <th>4</th>\n",
       "      <td>NaN</td>\n",
       "      <td>NaN</td>\n",
       "      <td>NaN</td>\n",
       "      <td>NaN</td>\n",
       "      <td>26.018966</td>\n",
       "      <td>30.634446</td>\n",
       "      <td>36.068661</td>\n",
       "    </tr>\n",
       "    <tr>\n",
       "      <th>5</th>\n",
       "      <td>NaN</td>\n",
       "      <td>NaN</td>\n",
       "      <td>NaN</td>\n",
       "      <td>NaN</td>\n",
       "      <td>NaN</td>\n",
       "      <td>22.098869</td>\n",
       "      <td>26.018966</td>\n",
       "    </tr>\n",
       "    <tr>\n",
       "      <th>6</th>\n",
       "      <td>NaN</td>\n",
       "      <td>NaN</td>\n",
       "      <td>NaN</td>\n",
       "      <td>NaN</td>\n",
       "      <td>NaN</td>\n",
       "      <td>NaN</td>\n",
       "      <td>18.769385</td>\n",
       "    </tr>\n",
       "  </tbody>\n",
       "</table>\n",
       "</div>"
      ],
      "text/plain": [
       "   date 0     date 1     date 2     date 3     date 4      date 5      date 6\n",
       "0    50.0  58.869452  69.312249  81.607482  96.083756  113.127962  133.195624\n",
       "1     NaN  42.466847  50.000000  58.869452  69.312249   81.607482   96.083756\n",
       "2     NaN        NaN  36.068661  42.466847  50.000000   58.869452   69.312249\n",
       "3     NaN        NaN        NaN  30.634446  36.068661   42.466847   50.000000\n",
       "4     NaN        NaN        NaN        NaN  26.018966   30.634446   36.068661\n",
       "5     NaN        NaN        NaN        NaN        NaN   22.098869   26.018966\n",
       "6     NaN        NaN        NaN        NaN        NaN         NaN   18.769385"
      ]
     },
     "execution_count": 4,
     "metadata": {},
     "output_type": "execute_result"
    }
   ],
   "source": [
    "stock = stockTree(\n",
    "    underlyingPrice=underlyingPrice,\n",
    "    upReturn=upReturn,\n",
    "    numPeriods=numPeriods\n",
    ")\n",
    "\n",
    "stock"
   ]
  },
  {
   "attachments": {},
   "cell_type": "markdown",
   "metadata": {},
   "source": [
    "#### American put tree"
   ]
  },
  {
   "cell_type": "code",
   "execution_count": 5,
   "metadata": {},
   "outputs": [
    {
     "ename": "NameError",
     "evalue": "name 'optionType' is not defined",
     "output_type": "error",
     "traceback": [
      "\u001b[1;31m---------------------------------------------------------------------------\u001b[0m",
      "\u001b[1;31mNameError\u001b[0m                                 Traceback (most recent call last)",
      "\u001b[1;32mc:\\Users\\kerry\\Repos\\2023-722\\docs\\10c-binomial-tree.ipynb Cell 9\u001b[0m in \u001b[0;36m<cell line: 1>\u001b[1;34m()\u001b[0m\n\u001b[0;32m      <a href='vscode-notebook-cell:/c%3A/Users/kerry/Repos/2023-722/docs/10c-binomial-tree.ipynb#X11sZmlsZQ%3D%3D?line=0'>1</a>\u001b[0m put \u001b[39m=\u001b[39m americanTree(\n\u001b[0;32m      <a href='vscode-notebook-cell:/c%3A/Users/kerry/Repos/2023-722/docs/10c-binomial-tree.ipynb#X11sZmlsZQ%3D%3D?line=1'>2</a>\u001b[0m     underlyingPrice\u001b[39m=\u001b[39munderlyingPrice,\n\u001b[0;32m      <a href='vscode-notebook-cell:/c%3A/Users/kerry/Repos/2023-722/docs/10c-binomial-tree.ipynb#X11sZmlsZQ%3D%3D?line=2'>3</a>\u001b[0m     strikePrice\u001b[39m=\u001b[39mstrikePrice,\n\u001b[0;32m      <a href='vscode-notebook-cell:/c%3A/Users/kerry/Repos/2023-722/docs/10c-binomial-tree.ipynb#X11sZmlsZQ%3D%3D?line=3'>4</a>\u001b[0m     interestRate\u001b[39m=\u001b[39minterestRate,\n\u001b[0;32m      <a href='vscode-notebook-cell:/c%3A/Users/kerry/Repos/2023-722/docs/10c-binomial-tree.ipynb#X11sZmlsZQ%3D%3D?line=4'>5</a>\u001b[0m     upReturn\u001b[39m=\u001b[39mupReturn,\n\u001b[0;32m      <a href='vscode-notebook-cell:/c%3A/Users/kerry/Repos/2023-722/docs/10c-binomial-tree.ipynb#X11sZmlsZQ%3D%3D?line=5'>6</a>\u001b[0m     numPeriods\u001b[39m=\u001b[39mnumPeriods,\n\u001b[1;32m----> <a href='vscode-notebook-cell:/c%3A/Users/kerry/Repos/2023-722/docs/10c-binomial-tree.ipynb#X11sZmlsZQ%3D%3D?line=6'>7</a>\u001b[0m     optionType\u001b[39m=\u001b[39moptionType\n\u001b[0;32m      <a href='vscode-notebook-cell:/c%3A/Users/kerry/Repos/2023-722/docs/10c-binomial-tree.ipynb#X11sZmlsZQ%3D%3D?line=7'>8</a>\u001b[0m )\n\u001b[0;32m     <a href='vscode-notebook-cell:/c%3A/Users/kerry/Repos/2023-722/docs/10c-binomial-tree.ipynb#X11sZmlsZQ%3D%3D?line=9'>10</a>\u001b[0m put\n",
      "\u001b[1;31mNameError\u001b[0m: name 'optionType' is not defined"
     ]
    }
   ],
   "source": [
    "put = americanTree(\n",
    "    underlyingPrice=underlyingPrice,\n",
    "    strikePrice=strikePrice,\n",
    "    interestRate=interestRate,\n",
    "    upReturn=upReturn,\n",
    "    numPeriods=numPeriods,\n",
    "    optionType=optionType\n",
    ")\n",
    "\n",
    "put"
   ]
  }
 ],
 "metadata": {
  "kernelspec": {
   "display_name": "Python 3",
   "language": "python",
   "name": "python3"
  },
  "language_info": {
   "codemirror_mode": {
    "name": "ipython",
    "version": 3
   },
   "file_extension": ".py",
   "mimetype": "text/x-python",
   "name": "python",
   "nbconvert_exporter": "python",
   "pygments_lexer": "ipython3",
   "version": "3.10.3"
  },
  "orig_nbformat": 4,
  "vscode": {
   "interpreter": {
    "hash": "a98f34b6005ae2330f135078450db511ef8910ecc790235ef0560aa88aa6ce12"
   }
  }
 },
 "nbformat": 4,
 "nbformat_minor": 2
}
