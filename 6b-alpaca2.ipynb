{
 "cells": [
  {
   "attachments": {},
   "cell_type": "markdown",
   "metadata": {},
   "source": [
    "## Repeat from Alpaca 1"
   ]
  },
  {
   "cell_type": "code",
   "execution_count": 22,
   "metadata": {},
   "outputs": [],
   "source": [
    "import pandas as pd\n",
    "import numpy as np\n",
    "from datetime import datetime\n",
    "from alpaca.trading.client import TradingClient\n",
    "from alpaca.data import StockHistoricalDataClient\n",
    "from alpaca.data.requests import StockLatestQuoteRequest\n",
    "from alpaca.trading.requests import MarketOrderRequest, GetAssetsRequest\n",
    "from alpaca.trading.enums import OrderSide, TimeInForce, AssetClass\n",
    "\n",
    "KEY = \"PKN99TWE381RXZFC5P04\"\n",
    "SECRET_KEY = \"e6kwHgPJoGr9sanjK2uTmqTynQfg7tvQXBMgR6lW\"\n",
    "\n",
    "data_client = StockHistoricalDataClient(KEY, SECRET_KEY)\n",
    "trading_client = TradingClient(KEY, SECRET_KEY, paper=True)\n",
    "\n",
    "today = datetime.today().strftime(\"%Y-%m-%d\")\n",
    "\n",
    "numstocks = 200"
   ]
  },
  {
   "attachments": {},
   "cell_type": "markdown",
   "metadata": {},
   "source": [
    "#### Get stock predictions"
   ]
  },
  {
   "cell_type": "code",
   "execution_count": 23,
   "metadata": {},
   "outputs": [],
   "source": [
    "df = pd.read_csv(f\"files/predictions_{today}.csv\", index_col=\"ticker\")\n",
    "ticks = df.index.to_list()"
   ]
  },
  {
   "attachments": {},
   "cell_type": "markdown",
   "metadata": {},
   "source": [
    "#### Get account equity"
   ]
  },
  {
   "cell_type": "code",
   "execution_count": 24,
   "metadata": {},
   "outputs": [],
   "source": [
    "account = trading_client.get_account()\n",
    "equity = float(account.equity)\n",
    "\n",
    "long_per_stock = 1.3*equity / numstocks\n",
    "short_per_stock = 0.3*equity / numstocks"
   ]
  },
  {
   "attachments": {},
   "cell_type": "markdown",
   "metadata": {},
   "source": [
    "#### Get tradeable and shortable stocks"
   ]
  },
  {
   "cell_type": "code",
   "execution_count": 25,
   "metadata": {},
   "outputs": [],
   "source": [
    "assets = trading_client.get_all_assets()\n",
    "\n",
    "assets = [x for x in assets if (x.asset_class[:]=='us_equity') and (x.symbol in ticks) and (x.status[:]=='active')]\n",
    "symbols = [x.symbol for x in assets]\n",
    "tradable = [x.tradable for x in assets]\n",
    "shortable = [x.shortable for x in assets]\n",
    "\n",
    "tradable = pd.Series(tradable, index=symbols)\n",
    "shortable = pd.Series(shortable, index=symbols)\n",
    "\n",
    "\n",
    "df[\"tradable\"] = tradable\n",
    "df[\"shortable\"] = shortable\n",
    "\n",
    "df = df[~df.tradable.isna() & df.tradable]\n",
    "ticks = df.index.to_list()"
   ]
  },
  {
   "attachments": {},
   "cell_type": "markdown",
   "metadata": {},
   "source": [
    "#### Get quotes and quantities"
   ]
  },
  {
   "cell_type": "code",
   "execution_count": 26,
   "metadata": {},
   "outputs": [],
   "source": [
    "\n",
    "params = StockLatestQuoteRequest(symbol_or_symbols=ticks)\n",
    "quotes = data_client.get_stock_latest_quote(params)\n",
    "df[\"ask\"] = [quotes[x].ask_price for x in ticks]\n",
    "df[\"bid\"] = [quotes[x].bid_price for x in ticks]\n",
    "\n",
    "qlong = [int(long_per_stock/x) if x>0 else np.nan for x in df.ask]\n",
    "qshort = [-int(short_per_stock/x) if x>0 else np.nan for x in df.bid]"
   ]
  },
  {
   "attachments": {},
   "cell_type": "markdown",
   "metadata": {},
   "source": [
    "#### Calculate target positions"
   ]
  },
  {
   "cell_type": "code",
   "execution_count": 27,
   "metadata": {},
   "outputs": [],
   "source": [
    "df[\"rnk\"] = df.predict.rank(method=\"first\")\n",
    "df[\"portfolio\"] = [\n",
    "    \"worst\" if x<=numstocks else (\"best\" if x>df.shape[0]-numstocks else \"middle\") for x in df.rnk\n",
    "]\n",
    "df[\"qty\"] = np.where(df.portfolio==\"worst\", qshort, 0)\n",
    "df[\"qty\"] = np.where(df.portfolio==\"best\", qlong, df.qty)"
   ]
  },
  {
   "cell_type": "markdown",
   "metadata": {},
   "source": [
    "## New: Trade to Update Positions"
   ]
  },
  {
   "attachments": {},
   "cell_type": "markdown",
   "metadata": {},
   "source": [
    "#### Get positions"
   ]
  },
  {
   "cell_type": "code",
   "execution_count": 29,
   "metadata": {},
   "outputs": [],
   "source": [
    "positions = trading_client.get_all_positions()\n",
    "positions = {x.symbol: int(x.qty) for x in positions}\n",
    "positions = pd.Series(positions)\n",
    "df[\"current\"] = positions\n",
    "df[\"current\"] = df.current.fillna(0)"
   ]
  },
  {
   "attachments": {},
   "cell_type": "markdown",
   "metadata": {},
   "source": [
    "#### A simple protocol: trade to target quentities"
   ]
  },
  {
   "cell_type": "code",
   "execution_count": 30,
   "metadata": {},
   "outputs": [],
   "source": [
    "df[\"qty\"] = df.qty - df.current"
   ]
  },
  {
   "attachments": {},
   "cell_type": "markdown",
   "metadata": {},
   "source": [
    "## Same Order Submission as in Alpaca 1"
   ]
  },
  {
   "cell_type": "code",
   "execution_count": 67,
   "metadata": {},
   "outputs": [],
   "source": [
    "\n",
    "for tick in df.index: \n",
    "    if df.loc[tick, \"qty\"]<0:\n",
    "        try:\n",
    "            market_order_data = MarketOrderRequest(\n",
    "                symbol=tick,\n",
    "                qty=-df.loc[tick, \"qty\"],\n",
    "                side=OrderSide.SELL,\n",
    "                time_in_force=TimeInForce.DAY\n",
    "            )\n",
    "            market_order = trading_client.submit_order(\n",
    "                order_data=market_order_data\n",
    "            )\n",
    "        except:\n",
    "            print(f\"sell order for {tick} failed\")\n",
    "    elif df.loc[tick, \"qty\"]>0:\n",
    "        try:\n",
    "            market_order_data = MarketOrderRequest(\n",
    "                symbol=tick,\n",
    "                qty=df.loc[tick, \"qty\"],\n",
    "                side=OrderSide.BUY,\n",
    "                time_in_force=TimeInForce.DAY\n",
    "            )\n",
    "            market_order = trading_client.submit_order(\n",
    "                order_data=market_order_data\n",
    "            )\n",
    "        except:\n",
    "            print(f\"buy order for {tick} failed\")\n",
    "\n"
   ]
  }
 ],
 "metadata": {
  "kernelspec": {
   "display_name": "Python 3",
   "language": "python",
   "name": "python3"
  },
  "language_info": {
   "codemirror_mode": {
    "name": "ipython",
    "version": 3
   },
   "file_extension": ".py",
   "mimetype": "text/x-python",
   "name": "python",
   "nbconvert_exporter": "python",
   "pygments_lexer": "ipython3",
   "version": "3.10.8"
  },
  "orig_nbformat": 4,
  "vscode": {
   "interpreter": {
    "hash": "a98f34b6005ae2330f135078450db511ef8910ecc790235ef0560aa88aa6ce12"
   }
  }
 },
 "nbformat": 4,
 "nbformat_minor": 2
}
