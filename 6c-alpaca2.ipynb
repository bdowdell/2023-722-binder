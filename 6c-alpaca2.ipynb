{
 "cells": [
  {
   "cell_type": "code",
   "execution_count": 63,
   "metadata": {},
   "outputs": [],
   "source": [
    "import pandas as pd\n",
    "import numpy as np\n",
    "\n",
    "from alpaca.trading.client import TradingClient\n",
    "from alpaca.data import StockHistoricalDataClient\n",
    "from alpaca.data.requests import StockLatestQuoteRequest\n",
    "from alpaca.trading.requests import MarketOrderRequest, GetAssetsRequest\n",
    "from alpaca.trading.enums import OrderSide, TimeInForce, AssetClass\n",
    "\n",
    "KEY = \"PKN99TWE381RXZFC5P04\"\n",
    "SECRET_KEY = \"e6kwHgPJoGr9sanjK2uTmqTynQfg7tvQXBMgR6lW\"\n",
    "\n",
    "data_client = StockHistoricalDataClient(KEY, SECRET_KEY)\n",
    "trading_client = TradingClient(KEY, SECRET_KEY, paper=True)"
   ]
  },
  {
   "attachments": {},
   "cell_type": "markdown",
   "metadata": {},
   "source": [
    "#### Stock predictions"
   ]
  },
  {
   "cell_type": "code",
   "execution_count": 64,
   "metadata": {},
   "outputs": [],
   "source": [
    "df = pd.read_csv(\"files/predictions.csv\", index_col=\"ticker\")\n",
    "ticks = df.index.to_list()"
   ]
  },
  {
   "attachments": {},
   "cell_type": "markdown",
   "metadata": {},
   "source": [
    "#### Tradeable and shortable stocks"
   ]
  },
  {
   "cell_type": "code",
   "execution_count": 65,
   "metadata": {},
   "outputs": [],
   "source": [
    "assets = trading_client.get_all_assets()\n",
    "\n",
    "assets = [x for x in assets if (x.asset_class[:]=='us_equity') and (x.symbol in ticks) and (x.status[:]=='active')]\n",
    "symbols = [x.symbol for x in assets]\n",
    "tradable = [x.tradable for x in assets]\n",
    "shortable = [x.shortable for x in assets]\n",
    "\n",
    "tradable = pd.Series(tradable, index=symbols)\n",
    "shortable = pd.Series(shortable, index=symbols)\n",
    "\n",
    "\n",
    "df[\"tradable\"] = tradable\n",
    "df[\"shortable\"] = shortable\n",
    "\n",
    "df = df[~df.tradable.isna() & df.tradable]\n",
    "ticks = df.index.to_list()"
   ]
  },
  {
   "attachments": {},
   "cell_type": "markdown",
   "metadata": {},
   "source": [
    "#### Compute trades"
   ]
  },
  {
   "cell_type": "code",
   "execution_count": 66,
   "metadata": {},
   "outputs": [],
   "source": [
    "\n",
    "params = StockLatestQuoteRequest(symbol_or_symbols=ticks)\n",
    "quotes = data_client.get_stock_latest_quote(params)\n",
    "df[\"ask\"] = [quotes[x].ask_price for x in ticks]\n",
    "df[\"bid\"] = [quotes[x].bid_price for x in ticks]\n",
    "\n",
    "equity = 100000\n",
    "numstocks = 200\n",
    "longdollars = 1.3*equity / numstocks\n",
    "shortdollars = 0.3*equity / numstocks\n",
    "\n",
    "df[\"qlong\"] = [int(longdollars/x) if x>0 else np.nan for x in df.ask]\n",
    "df[\"qshort\"] = [int(shortdollars/x) if x>0 else np.nan for x in df.bid]\n",
    "\n",
    "df = df.sort_values(by=\"predict\")\n",
    "best = df[df.qlong>0].iloc[:200]\n",
    "worst = df[(df.qshort>0) & df.shortable].iloc[-200:]"
   ]
  },
  {
   "attachments": {},
   "cell_type": "markdown",
   "metadata": {},
   "source": [
    "#### Submit trades"
   ]
  },
  {
   "cell_type": "code",
   "execution_count": 67,
   "metadata": {},
   "outputs": [],
   "source": [
    "for tick in worst.index: \n",
    "    try:\n",
    "        market_order_data = MarketOrderRequest(\n",
    "            symbol=tick,\n",
    "            qty=worst.loc[tick, \"qshort\"],\n",
    "            side=OrderSide.SELL,\n",
    "            time_in_force=TimeInForce.DAY\n",
    "        )\n",
    "        market_order = trading_client.submit_order(\n",
    "            order_data=market_order_data\n",
    "        )\n",
    "    except:\n",
    "        print(f\"sell order for {tick} failed\")\n",
    "        \n",
    "for tick in best.index: \n",
    "    try:\n",
    "        market_order_data = MarketOrderRequest(\n",
    "            symbol=tick,\n",
    "            qty=best.loc[tick, \"qlong\"],\n",
    "            side=OrderSide.BUY,\n",
    "            time_in_force=TimeInForce.DAY\n",
    "        )\n",
    "        market_order = trading_client.submit_order(\n",
    "            order_data=market_order_data\n",
    "        )\n",
    "    except:\n",
    "        print(f\"buy order for {tick} failed\")\n",
    "\n"
   ]
  }
 ],
 "metadata": {
  "kernelspec": {
   "display_name": "Python 3",
   "language": "python",
   "name": "python3"
  },
  "language_info": {
   "codemirror_mode": {
    "name": "ipython",
    "version": 3
   },
   "file_extension": ".py",
   "mimetype": "text/x-python",
   "name": "python",
   "nbconvert_exporter": "python",
   "pygments_lexer": "ipython3",
   "version": "3.10.8 (tags/v3.10.8:aaaf517, Oct 11 2022, 16:50:30) [MSC v.1933 64 bit (AMD64)]"
  },
  "orig_nbformat": 4,
  "vscode": {
   "interpreter": {
    "hash": "a98f34b6005ae2330f135078450db511ef8910ecc790235ef0560aa88aa6ce12"
   }
  }
 },
 "nbformat": 4,
 "nbformat_minor": 2
}
