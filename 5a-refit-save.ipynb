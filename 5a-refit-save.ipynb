{
 "cells": [
  {
   "cell_type": "code",
   "execution_count": 1,
   "metadata": {},
   "outputs": [],
   "source": [
    "from sqlalchemy import create_engine\n",
    "import pymssql\n",
    "import pandas as pd\n",
    "import numpy as np\n",
    "\n",
    "from sklearn.linear_model import LinearRegression\n",
    "from sklearn.preprocessing import QuantileTransformer\n",
    "from sklearn.preprocessing import PolynomialFeatures\n",
    "from sklearn.pipeline import make_pipeline\n",
    "\n",
    "model = LinearRegression()\n",
    "qt = QuantileTransformer(output_distribution=\"normal\")\n",
    "poly = PolynomialFeatures(degree=2)\n",
    "pipe = make_pipeline(poly, model)\n",
    "\n",
    "from joblib import dump"
   ]
  },
  {
   "cell_type": "code",
   "execution_count": 12,
   "metadata": {},
   "outputs": [],
   "source": [
    "def get_secrets(file_name):\n",
    "    \"\"\"\n",
    "    helper function to read in secret login details \n",
    "    \n",
    "    Inputs:\n",
    "        file_name - a string pointing to the secret file path and file name\n",
    "\n",
    "    Returns a list containing secret information\n",
    "    \"\"\"\n",
    "    # open file and read contents line by line, saving to a list\n",
    "    with open(file_name, mode='r') as file:\n",
    "        secrets = []\n",
    "        for line in file:\n",
    "            secrets.append(line.strip())\n",
    "    return secrets\n",
    "    "
   ]
  },
  {
   "cell_type": "code",
   "execution_count": 14,
   "metadata": {},
   "outputs": [
    {
     "name": "stdout",
     "output_type": "stream",
     "text": [
      "Test 1: input file: test_get_secrets1.txt\n",
      "\tget_secrets() returned a list? True\n",
      "\tget_secrets contains only strings? True\n",
      "\tExpected length of 3. Pass? True\n",
      "\tLeading/Trailing whitespaces stripped? True\n",
      "All pass? True\n"
     ]
    }
   ],
   "source": [
    "def test_get_secrets():\n",
    "    \"\"\" Implements unit tests for get_secrets() \"\"\"\n",
    "    \n",
    "    def tests(file_name):\n",
    "        # call get_secrets\n",
    "        secrets = get_secrets(file_name)\n",
    "        # returned type is a list\n",
    "        is_list = type(secrets) == type([])\n",
    "        # contents are strings\n",
    "        contains_strings = False\n",
    "        if len(secrets) != 0:\n",
    "            contains_strings = True\n",
    "        for secret in secrets:\n",
    "            if type(secret) != type(str()):\n",
    "                contains_strings = False\n",
    "        # returned length\n",
    "        list_len = len(secrets)\n",
    "        # no leading or trailing whitespace\n",
    "        whitespace = True\n",
    "        for secret in secrets:\n",
    "            if secret[0].isspace() or secret[-1].isspace():\n",
    "                whitespace = False\n",
    "        return is_list, contains_strings, list_len, whitespace\n",
    "        \n",
    "    # test 1\n",
    "    file_name = 'test_get_secrets1.txt'\n",
    "    test1 = tests(file_name)\n",
    "    print(f\"Test 1: input file: {file_name}\")\n",
    "    print(f\"\\tget_secrets() returned a list? {test1[0]}\")\n",
    "    print(f\"\\tget_secrets contains only strings? {test1[1]}\")\n",
    "    print(f\"\\tExpected length of 3. Pass? {3 == test1[2]}\")\n",
    "    print(f\"\\tLeading/Trailing whitespaces stripped? {test1[3]}\")\n",
    "    print(f\"All pass? {test1[0] and test1[1] and test1[2] and test1[3]}\")\n",
    "\n",
    "# run tests\n",
    "test_get_secrets()"
   ]
  },
  {
   "cell_type": "code",
   "execution_count": 15,
   "metadata": {},
   "outputs": [],
   "source": [
    "# get secrets\n",
    "secrets = get_secrets('.secrets')\n",
    "server = secrets[0]\n",
    "username = secrets[1]\n",
    "password = secrets[2]\n",
    "dfbase = secrets[3]\n",
    "string = \"mssql+pymssql://\" + username + \":\" + password + \"@\" + server + \"/\" + dfbase\n",
    "conn = create_engine(string).connect()"
   ]
  },
  {
   "attachments": {},
   "cell_type": "markdown",
   "metadata": {},
   "source": [
    "#### Get data"
   ]
  },
  {
   "cell_type": "code",
   "execution_count": 16,
   "metadata": {},
   "outputs": [],
   "source": [
    "df = pd.read_sql(\n",
    "    \"\"\"\n",
    "    select ticker, date, ret, bm, mom12m, roeq, mve\n",
    "    from data\n",
    "    where date>='2000-01'\n",
    "    order by date, ticker\n",
    "    \"\"\", \n",
    "    conn\n",
    ")\n",
    "df = df.dropna()\n",
    "conn.close()\n",
    "\n",
    "features = [\"bm\", \"mom12m\", \"roeq\"]\n",
    "df = df.set_index([\"date\", \"ticker\"])"
   ]
  },
  {
   "attachments": {},
   "cell_type": "markdown",
   "metadata": {},
   "source": [
    "#### Drop largest 500 stocks each month"
   ]
  },
  {
   "cell_type": "code",
   "execution_count": 17,
   "metadata": {},
   "outputs": [],
   "source": [
    "df[\"size_rnk\"] = df.groupby(\"date\").mve.rank(ascending=False)\n",
    "df = df[df.size_rnk>500]"
   ]
  },
  {
   "attachments": {},
   "cell_type": "markdown",
   "metadata": {},
   "source": [
    "#### Transform features each month"
   ]
  },
  {
   "cell_type": "code",
   "execution_count": 18,
   "metadata": {},
   "outputs": [],
   "source": [
    "def qt_df(d):\n",
    "    x = qt.fit_transform(d)\n",
    "    return pd.DataFrame(x, columns=d.columns, index=d.index)\n",
    "\n",
    "df[features] = df.groupby(\"date\", group_keys=False)[features].apply(qt_df)"
   ]
  },
  {
   "attachments": {},
   "cell_type": "markdown",
   "metadata": {},
   "source": [
    "#### Transform target each month"
   ]
  },
  {
   "cell_type": "code",
   "execution_count": 19,
   "metadata": {},
   "outputs": [],
   "source": [
    "def qt_ser(s):\n",
    "    x = s.copy()\n",
    "    x = x.to_numpy().reshape(-1, 1)\n",
    "    x = qt.fit_transform(x).flatten()\n",
    "    return pd.Series(x, index=s.index)\n",
    "\n",
    "df[\"target\"] = df.groupby(\"date\", group_keys=False).ret.apply(qt_ser)"
   ]
  },
  {
   "attachments": {},
   "cell_type": "markdown",
   "metadata": {},
   "source": [
    "#### Train and save"
   ]
  },
  {
   "cell_type": "code",
   "execution_count": 21,
   "metadata": {},
   "outputs": [],
   "source": [
    "from datetime import date"
   ]
  },
  {
   "cell_type": "code",
   "execution_count": 22,
   "metadata": {},
   "outputs": [],
   "source": [
    "today = date.today()"
   ]
  },
  {
   "cell_type": "code",
   "execution_count": 26,
   "metadata": {},
   "outputs": [
    {
     "data": {
      "text/plain": [
       "['files/linear_model_2023-01-31.joblib']"
      ]
     },
     "execution_count": 26,
     "metadata": {},
     "output_type": "execute_result"
    }
   ],
   "source": [
    "X = df[features]\n",
    "y = df[\"target\"]\n",
    "pipe.fit(X, y)\n",
    "model_file = 'files/linear_model_' + str(today) + '.joblib'\n",
    "dump(pipe, model_file)"
   ]
  },
  {
   "cell_type": "code",
   "execution_count": null,
   "metadata": {},
   "outputs": [],
   "source": []
  }
 ],
 "metadata": {
  "kernelspec": {
   "display_name": "py39",
   "language": "python",
   "name": "python3"
  },
  "language_info": {
   "codemirror_mode": {
    "name": "ipython",
    "version": 3
   },
   "file_extension": ".py",
   "mimetype": "text/x-python",
   "name": "python",
   "nbconvert_exporter": "python",
   "pygments_lexer": "ipython3",
   "version": "3.9.12"
  },
  "orig_nbformat": 4,
  "vscode": {
   "interpreter": {
    "hash": "fbefab0bb36e416736e3e2542c005ce009aff91e6292b4ff20121bc79f891d2e"
   }
  }
 },
 "nbformat": 4,
 "nbformat_minor": 2
}
