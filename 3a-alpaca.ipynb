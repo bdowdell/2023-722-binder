{
 "cells": [
  {
   "cell_type": "code",
   "execution_count": 1,
   "metadata": {},
   "outputs": [],
   "source": [
    "from alpaca.trading.client import TradingClient\n",
    "from alpaca.trading.requests import MarketOrderRequest\n",
    "from alpaca.trading.enums import OrderSide, TimeInForce"
   ]
  },
  {
   "cell_type": "code",
   "execution_count": 2,
   "metadata": {},
   "outputs": [],
   "source": [
    "KEY = \"\"\n",
    "SECRET_KEY = \"\"\n",
    "\n",
    "trading_client = TradingClient(KEY, SECRET_KEY, paper=True)"
   ]
  },
  {
   "cell_type": "code",
   "execution_count": 3,
   "metadata": {},
   "outputs": [],
   "source": [
    "order = MarketOrderRequest(\n",
    "    symbol=\"AAPL\",\n",
    "    qty=10,\n",
    "    side=OrderSide.BUY,\n",
    "    time_in_force=TimeInForce.DAY\n",
    "    )\n",
    "_ = trading_client.submit_order(order)"
   ]
  },
  {
   "cell_type": "code",
   "execution_count": 4,
   "metadata": {},
   "outputs": [],
   "source": [
    "order = MarketOrderRequest(\n",
    "    symbol=\"TSLA\",\n",
    "    qty=5,\n",
    "    side=OrderSide.SELL,\n",
    "    time_in_force=TimeInForce.DAY\n",
    "    )\n",
    "_ = trading_client.submit_order(order)"
   ]
  },
  {
   "cell_type": "code",
   "execution_count": 5,
   "metadata": {},
   "outputs": [
    {
     "data": {
      "text/plain": [
       "[{   'asset_class': <AssetClass.US_EQUITY: 'us_equity'>,\n",
       "     'asset_id': UUID('b0b6dd9d-8b9b-48a9-ba46-b9d54906e415'),\n",
       "     'avg_entry_price': '134.825',\n",
       "     'change_today': '0.0020035618878005',\n",
       "     'cost_basis': '2696.5',\n",
       "     'current_price': '135.03',\n",
       "     'exchange': <AssetExchange.NASDAQ: 'NASDAQ'>,\n",
       "     'lastday_price': '134.76',\n",
       "     'market_value': '2700.6',\n",
       "     'qty': '20',\n",
       "     'side': <PositionSide.LONG: 'long'>,\n",
       "     'symbol': 'AAPL',\n",
       "     'unrealized_intraday_pl': '4.1',\n",
       "     'unrealized_intraday_plpc': '0.0015204895234563',\n",
       "     'unrealized_pl': '4.1',\n",
       "     'unrealized_plpc': '0.0015204895234563'},\n",
       " {   'asset_class': <AssetClass.US_EQUITY: 'us_equity'>,\n",
       "     'asset_id': UUID('8ccae427-5dd0-45b3-b5fe-7ba5e422c766'),\n",
       "     'avg_entry_price': '125.44',\n",
       "     'change_today': '0.0458333333333333',\n",
       "     'cost_basis': '-627.2',\n",
       "     'current_price': '128.01',\n",
       "     'exchange': <AssetExchange.NASDAQ: 'NASDAQ'>,\n",
       "     'lastday_price': '122.4',\n",
       "     'market_value': '-640.05',\n",
       "     'qty': '-5',\n",
       "     'side': <PositionSide.SHORT: 'short'>,\n",
       "     'symbol': 'TSLA',\n",
       "     'unrealized_intraday_pl': '-12.85',\n",
       "     'unrealized_intraday_plpc': '-0.0204878826530612',\n",
       "     'unrealized_pl': '-12.85',\n",
       "     'unrealized_plpc': '-0.0204878826530612'}]"
      ]
     },
     "execution_count": 5,
     "metadata": {},
     "output_type": "execute_result"
    }
   ],
   "source": [
    "positions = trading_client.get_all_positions()\n",
    "positions"
   ]
  },
  {
   "cell_type": "code",
   "execution_count": 6,
   "metadata": {},
   "outputs": [
    {
     "data": {
      "text/plain": [
       "{   'account_blocked': False,\n",
       "    'account_number': 'PA3L42QA92GW',\n",
       "    'accrued_fees': '0',\n",
       "    'buying_power': '195982.547',\n",
       "    'cash': '97930.7',\n",
       "    'created_at': datetime.datetime(2023, 1, 16, 17, 40, 37, 187303, tzinfo=datetime.timezone.utc),\n",
       "    'crypto_status': <AccountStatus.ACTIVE: 'ACTIVE'>,\n",
       "    'currency': 'USD',\n",
       "    'daytrade_count': 0,\n",
       "    'daytrading_buying_power': '0',\n",
       "    'equity': '99991.25',\n",
       "    'id': UUID('fbe86d7e-e5c9-49e9-bfce-e6e2c098f074'),\n",
       "    'initial_margin': '1999.9765',\n",
       "    'last_equity': '100000',\n",
       "    'last_maintenance_margin': '0',\n",
       "    'long_market_value': '2700.6',\n",
       "    'maintenance_margin': '1661.498',\n",
       "    'multiplier': '2',\n",
       "    'non_marginable_buying_power': '96663.45',\n",
       "    'pattern_day_trader': False,\n",
       "    'pending_transfer_in': '0',\n",
       "    'pending_transfer_out': None,\n",
       "    'portfolio_value': '99991.25',\n",
       "    'regt_buying_power': '195982.547',\n",
       "    'short_market_value': '-640.05',\n",
       "    'shorting_enabled': True,\n",
       "    'sma': '0',\n",
       "    'status': <AccountStatus.ACTIVE: 'ACTIVE'>,\n",
       "    'trade_suspended_by_user': False,\n",
       "    'trading_blocked': False,\n",
       "    'transfers_blocked': False}"
      ]
     },
     "execution_count": 6,
     "metadata": {},
     "output_type": "execute_result"
    }
   ],
   "source": [
    "account = trading_client.get_account()\n",
    "account"
   ]
  },
  {
   "cell_type": "code",
   "execution_count": 8,
   "metadata": {},
   "outputs": [
    {
     "data": {
      "text/plain": [
       "'99991.25'"
      ]
     },
     "execution_count": 8,
     "metadata": {},
     "output_type": "execute_result"
    }
   ],
   "source": [
    "account.equity"
   ]
  }
 ],
 "metadata": {
  "kernelspec": {
   "display_name": "Python 3",
   "language": "python",
   "name": "python3"
  },
  "language_info": {
   "codemirror_mode": {
    "name": "ipython",
    "version": 3
   },
   "file_extension": ".py",
   "mimetype": "text/x-python",
   "name": "python",
   "nbconvert_exporter": "python",
   "pygments_lexer": "ipython3",
   "version": "3.10.8"
  },
  "orig_nbformat": 4,
  "vscode": {
   "interpreter": {
    "hash": "a98f34b6005ae2330f135078450db511ef8910ecc790235ef0560aa88aa6ce12"
   }
  }
 },
 "nbformat": 4,
 "nbformat_minor": 2
}
