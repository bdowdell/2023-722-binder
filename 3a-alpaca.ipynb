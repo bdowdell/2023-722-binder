{
 "cells": [
  {
   "cell_type": "code",
   "execution_count": null,
   "metadata": {},
   "outputs": [],
   "source": [
    "from alpaca.trading.client import TradingClient\n",
    "from alpaca.trading.requests import MarketOrderRequest\n",
    "from alpaca.trading.enums import OrderSide, TimeInForce\n"
   ]
  },
  {
   "cell_type": "code",
   "execution_count": null,
   "metadata": {},
   "outputs": [],
   "source": [
    "KEY = \"PK7WICVQ1J0E66EBVCGO\"\n",
    "SECRET_KEY = \"jns6NkaYbGgp0I2CtBjcBAcDpmGjQI8uDHgtsmNd\"\n",
    "trading_client = TradingClient(KEY, SECRET_KEY, paper=True)"
   ]
  },
  {
   "cell_type": "code",
   "execution_count": null,
   "metadata": {},
   "outputs": [],
   "source": [
    "order = MarketOrderRequest(\n",
    "    symbol=\"AAPL\",\n",
    "    qty=10,\n",
    "    side=OrderSide.BUY,\n",
    "    time_in_force=TimeInForce.DAY\n",
    "    )\n",
    "_ = trading_client.submit_order(order)"
   ]
  },
  {
   "cell_type": "code",
   "execution_count": null,
   "metadata": {},
   "outputs": [],
   "source": [
    "order = MarketOrderRequest(\n",
    "    symbol=\"TSLA\",\n",
    "    qty=5,\n",
    "    side=OrderSide.SELL,\n",
    "    time_in_force=TimeInForce.DAY\n",
    "    )\n",
    "_ = trading_client.submit_order(order)"
   ]
  },
  {
   "cell_type": "code",
   "execution_count": null,
   "metadata": {},
   "outputs": [],
   "source": [
    "positions = trading_client.get_all_positions()\n",
    "positions"
   ]
  },
  {
   "cell_type": "code",
   "execution_count": null,
   "metadata": {},
   "outputs": [],
   "source": [
    "account = trading_client.get_account()\n",
    "account"
   ]
  }
 ],
 "metadata": {
  "kernelspec": {
   "display_name": "Python 3",
   "language": "python",
   "name": "python3"
  },
  "language_info": {
   "name": "python",
   "version": "3.10.3 (tags/v3.10.3:a342a49, Mar 16 2022, 13:07:40) [MSC v.1929 64 bit (AMD64)]"
  },
  "orig_nbformat": 4,
  "vscode": {
   "interpreter": {
    "hash": "a98f34b6005ae2330f135078450db511ef8910ecc790235ef0560aa88aa6ce12"
   }
  }
 },
 "nbformat": 4,
 "nbformat_minor": 2
}
