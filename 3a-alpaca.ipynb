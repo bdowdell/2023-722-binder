{
 "cells": [
  {
   "cell_type": "code",
   "execution_count": 1,
   "metadata": {},
   "outputs": [],
   "source": [
    "from alpaca.trading.client import TradingClient\n",
    "from alpaca.trading.requests import MarketOrderRequest\n",
    "from alpaca.trading.enums import OrderSide, TimeInForce"
   ]
  },
  {
   "cell_type": "code",
   "execution_count": 2,
   "metadata": {},
   "outputs": [],
   "source": [
    "KEY = \"PKC02DXM35L63KWAFD7K\"\n",
    "SECRET_KEY = \"AXjRZQebXNKCqQx7WAknkcFeG2ivCsvb1Xes8XRA\"\n",
    "\n",
    "\n",
    "trading_client = TradingClient(KEY, SECRET_KEY, paper=True)"
   ]
  },
  {
   "cell_type": "code",
   "execution_count": 3,
   "metadata": {},
   "outputs": [],
   "source": [
    "order = MarketOrderRequest(\n",
    "    symbol=\"AAPL\",\n",
    "    qty=10,\n",
    "    side=OrderSide.BUY,\n",
    "    time_in_force=TimeInForce.DAY\n",
    "    )\n",
    "_ = trading_client.submit_order(order)"
   ]
  },
  {
   "cell_type": "code",
   "execution_count": 4,
   "metadata": {},
   "outputs": [],
   "source": [
    "order = MarketOrderRequest(\n",
    "    symbol=\"TSLA\",\n",
    "    qty=5,\n",
    "    side=OrderSide.SELL,\n",
    "    time_in_force=TimeInForce.DAY\n",
    "    )\n",
    "_ = trading_client.submit_order(order)"
   ]
  },
  {
   "cell_type": "code",
   "execution_count": 5,
   "metadata": {},
   "outputs": [
    {
     "data": {
      "text/plain": [
       "[{   'asset_class': <AssetClass.US_EQUITY: 'us_equity'>,\n",
       "     'asset_id': UUID('b0b6dd9d-8b9b-48a9-ba46-b9d54906e415'),\n",
       "     'avg_entry_price': '135.52',\n",
       "     'change_today': '-0.0084596145358246',\n",
       "     'cost_basis': '4065.6',\n",
       "     'current_price': '134.79',\n",
       "     'exchange': <AssetExchange.NASDAQ: 'NASDAQ'>,\n",
       "     'lastday_price': '135.94',\n",
       "     'market_value': '4043.7',\n",
       "     'qty': '30',\n",
       "     'side': <PositionSide.LONG: 'long'>,\n",
       "     'symbol': 'AAPL',\n",
       "     'unrealized_intraday_pl': '-30.3',\n",
       "     'unrealized_intraday_plpc': '-0.0074374079528719',\n",
       "     'unrealized_pl': '-21.9',\n",
       "     'unrealized_plpc': '-0.0053866587957497'},\n",
       " {   'asset_class': <AssetClass.US_EQUITY: 'us_equity'>,\n",
       "     'asset_id': UUID('8ccae427-5dd0-45b3-b5fe-7ba5e422c766'),\n",
       "     'avg_entry_price': '130',\n",
       "     'change_today': '-0.0295839987831774',\n",
       "     'cost_basis': '-1950',\n",
       "     'current_price': '127.6',\n",
       "     'exchange': <AssetExchange.NASDAQ: 'NASDAQ'>,\n",
       "     'lastday_price': '131.49',\n",
       "     'market_value': '-1914',\n",
       "     'qty': '-15',\n",
       "     'side': <PositionSide.SHORT: 'short'>,\n",
       "     'symbol': 'TSLA',\n",
       "     'unrealized_intraday_pl': '50.9',\n",
       "     'unrealized_intraday_plpc': '0.025904626189628',\n",
       "     'unrealized_pl': '36',\n",
       "     'unrealized_plpc': '0.0184615384615385'}]"
      ]
     },
     "execution_count": 5,
     "metadata": {},
     "output_type": "execute_result"
    }
   ],
   "source": [
    "positions = trading_client.get_all_positions()\n",
    "positions"
   ]
  },
  {
   "cell_type": "code",
   "execution_count": 6,
   "metadata": {},
   "outputs": [
    {
     "data": {
      "text/plain": [
       "{   'account_blocked': False,\n",
       "    'account_number': 'PA3L42QA92GW',\n",
       "    'accrued_fees': '0',\n",
       "    'buying_power': '192065.4255',\n",
       "    'cash': '97884.36',\n",
       "    'created_at': datetime.datetime(2023, 1, 16, 17, 40, 37, 187303, tzinfo=datetime.timezone.utc),\n",
       "    'crypto_status': <AccountStatus.ACTIVE: 'ACTIVE'>,\n",
       "    'currency': 'USD',\n",
       "    'daytrade_count': 0,\n",
       "    'daytrading_buying_power': '0',\n",
       "    'equity': '100014.06',\n",
       "    'id': UUID('fbe86d7e-e5c9-49e9-bfce-e6e2c098f074'),\n",
       "    'initial_margin': '3981.34725',\n",
       "    'last_equity': '99974.61',\n",
       "    'last_maintenance_margin': '1341.6',\n",
       "    'long_market_value': '4043.7',\n",
       "    'maintenance_margin': '2848.9145',\n",
       "    'multiplier': '2',\n",
       "    'non_marginable_buying_power': '94032.71',\n",
       "    'pattern_day_trader': False,\n",
       "    'pending_transfer_in': '0',\n",
       "    'pending_transfer_out': None,\n",
       "    'portfolio_value': '100014.06',\n",
       "    'regt_buying_power': '192065.4255',\n",
       "    'short_market_value': '-1914',\n",
       "    'shorting_enabled': True,\n",
       "    'sma': '0',\n",
       "    'status': <AccountStatus.ACTIVE: 'ACTIVE'>,\n",
       "    'trade_suspended_by_user': False,\n",
       "    'trading_blocked': False,\n",
       "    'transfers_blocked': False}"
      ]
     },
     "execution_count": 6,
     "metadata": {},
     "output_type": "execute_result"
    }
   ],
   "source": [
    "account = trading_client.get_account()\n",
    "account"
   ]
  },
  {
   "cell_type": "code",
   "execution_count": 7,
   "metadata": {},
   "outputs": [
    {
     "data": {
      "text/plain": [
       "'100014.06'"
      ]
     },
     "execution_count": 7,
     "metadata": {},
     "output_type": "execute_result"
    }
   ],
   "source": [
    "account.equity"
   ]
  }
 ],
 "metadata": {
  "kernelspec": {
   "display_name": "Python 3",
   "language": "python",
   "name": "python3"
  },
  "language_info": {
   "codemirror_mode": {
    "name": "ipython",
    "version": 3
   },
   "file_extension": ".py",
   "mimetype": "text/x-python",
   "name": "python",
   "nbconvert_exporter": "python",
   "pygments_lexer": "ipython3",
   "version": "3.10.3"
  },
  "orig_nbformat": 4,
  "vscode": {
   "interpreter": {
    "hash": "a98f34b6005ae2330f135078450db511ef8910ecc790235ef0560aa88aa6ce12"
   }
  }
 },
 "nbformat": 4,
 "nbformat_minor": 2
}
