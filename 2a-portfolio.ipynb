{
 "cells": [
  {
   "cell_type": "code",
   "execution_count": 1,
   "metadata": {},
   "outputs": [],
   "source": [
    "import pandas as pd\n",
    "import pymssql\n",
    "from sqlalchemy import create_engine\n",
    "\n",
    "server = 'fs.rice.edu'\n",
    "database = 'stocks'\n",
    "username = 'stocks'\n",
    "password = '6LAZH1'\n",
    "\n",
    "string = \"mssql+pymssql://\" + username + \":\" + password + \"@\" + server + \"/\" + database \n",
    "conn = create_engine(string).connect()"
   ]
  },
  {
   "cell_type": "code",
   "execution_count": 2,
   "metadata": {},
   "outputs": [],
   "source": [
    "quarterly = pd.read_sql(\n",
    "    \"\"\"\n",
    "    select datekey, reportperiod, ticker, netinc, equity\n",
    "    from sf1\n",
    "    where dimension='ARQ' and equity>0\n",
    "    order by ticker, datekey\n",
    "    \"\"\",\n",
    "    conn\n",
    ")\n",
    "quarterly = quarterly.dropna()"
   ]
  },
  {
   "cell_type": "code",
   "execution_count": 3,
   "metadata": {},
   "outputs": [],
   "source": [
    "quarterly[\"equitylag\"] = quarterly.groupby(\"ticker\").equity.shift()\n",
    "quarterly[\"roe\"] = quarterly.netinc / quarterly.equitylag\n",
    "\n",
    "# save last report for each firm\n",
    "quarterly = quarterly.groupby(\"ticker\").last()\n",
    "quarterly = quarterly[quarterly.reportperiod.astype(str)>=\"2022-06-01\"]\n",
    "\n",
    "# drop variables other than roe and ticker (ticker=index)\n",
    "quarterly = quarterly[[\"roe\"]]"
   ]
  },
  {
   "cell_type": "code",
   "execution_count": 4,
   "metadata": {},
   "outputs": [],
   "source": [
    "daily1 = pd.read_sql(\n",
    "    \"\"\" \n",
    "    select date, ticker, pb, marketcap\n",
    "    from daily \n",
    "    where date>='2023-01-01' and pb>0\n",
    "    order by ticker, date\n",
    "    \"\"\",\n",
    "    conn\n",
    ")\n",
    "daily1 = daily1.dropna()\n",
    "daily1 = daily1.groupby(\"ticker\").last()"
   ]
  },
  {
   "cell_type": "code",
   "execution_count": 5,
   "metadata": {},
   "outputs": [],
   "source": [
    "daily2 = pd.read_sql(\n",
    "    \"\"\" \n",
    "    select date, ticker, close_ as price\n",
    "    from sep \n",
    "    where date>='2023-01-01'\n",
    "    order by ticker, date\n",
    "    \"\"\",\n",
    "    conn\n",
    ")\n",
    "daily2 = daily2.dropna()\n",
    "daily2 = daily2.groupby(\"ticker\").last()"
   ]
  },
  {
   "cell_type": "code",
   "execution_count": 6,
   "metadata": {},
   "outputs": [
    {
     "name": "stdout",
     "output_type": "stream",
     "text": [
      "<class 'pandas.core.frame.DataFrame'>\n",
      "Index: 3609 entries, A to YTPG\n",
      "Data columns (total 6 columns):\n",
      " #   Column     Non-Null Count  Dtype  \n",
      "---  ------     --------------  -----  \n",
      " 0   roe        3354 non-null   float64\n",
      " 1   date       3285 non-null   object \n",
      " 2   pb         3285 non-null   float64\n",
      " 3   marketcap  3285 non-null   float64\n",
      " 4   date       3544 non-null   object \n",
      " 5   price      3544 non-null   float64\n",
      "dtypes: float64(4), object(2)\n",
      "memory usage: 197.4+ KB\n"
     ]
    }
   ],
   "source": [
    "df = pd.concat((quarterly, daily1, daily2), axis=1)\n",
    "df.info()"
   ]
  },
  {
   "cell_type": "code",
   "execution_count": 7,
   "metadata": {},
   "outputs": [
    {
     "data": {
      "text/plain": [
       "(2621, 6)"
      ]
     },
     "execution_count": 7,
     "metadata": {},
     "output_type": "execute_result"
    }
   ],
   "source": [
    "df = df[df.price>5]\n",
    "df.shape"
   ]
  },
  {
   "cell_type": "code",
   "execution_count": 8,
   "metadata": {},
   "outputs": [],
   "source": [
    "df[\"size_rank\"] = df.marketcap.rank(ascending=False)\n",
    "df = df[df.size_rank > 500]"
   ]
  },
  {
   "cell_type": "code",
   "execution_count": 9,
   "metadata": {},
   "outputs": [],
   "source": [
    "filter1 = df.roe >= df.roe.quantile(0.7)\n",
    "filter2 = df.pb <= df.pb.quantile(0.3)\n",
    "df = df[filter1 & filter2].copy()\n",
    "df.to_csv(\"files/first_portfolio.csv\")"
   ]
  }
 ],
 "metadata": {
  "kernelspec": {
   "display_name": "Python 3",
   "language": "python",
   "name": "python3"
  },
  "language_info": {
   "codemirror_mode": {
    "name": "ipython",
    "version": 3
   },
   "file_extension": ".py",
   "mimetype": "text/x-python",
   "name": "python",
   "nbconvert_exporter": "python",
   "pygments_lexer": "ipython3",
   "version": "3.10.3"
  },
  "orig_nbformat": 4,
  "vscode": {
   "interpreter": {
    "hash": "a98f34b6005ae2330f135078450db511ef8910ecc790235ef0560aa88aa6ce12"
   }
  }
 },
 "nbformat": 4,
 "nbformat_minor": 2
}
