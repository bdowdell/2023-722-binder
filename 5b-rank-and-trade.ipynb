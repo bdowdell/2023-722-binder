{
 "cells": [
  {
   "cell_type": "code",
   "execution_count": 1,
   "metadata": {},
   "outputs": [],
   "source": [
    "\n",
    "import pandas as pd\n",
    "import numpy as np\n",
    "\n",
    "from sklearn.linear_model import LinearRegression\n",
    "from sklearn.preprocessing import QuantileTransformer\n",
    "from joblib import load\n",
    "\n",
    "from sqlalchemy import create_engine\n",
    "import pymssql\n",
    "from datetime import datetime\n",
    "\n",
    "from alpaca.trading.client import TradingClient\n",
    "from alpaca.data import StockHistoricalDataClient\n",
    "from alpaca.data.requests import StockLatestQuoteRequest\n",
    "from alpaca.trading.requests import MarketOrderRequest, GetAssetsRequest\n",
    "from alpaca.trading.enums import OrderSide, TimeInForce, AssetClass\n",
    "\n",
    "import get_secrets\n",
    "\n",
    "numstocks = 200\n",
    "\n",
    "qt = QuantileTransformer(output_distribution=\"normal\")\n",
    "pipe = load(\"files/linear_model_2023-01-31.joblib\")"
   ]
  },
  {
   "attachments": {},
   "cell_type": "markdown",
   "metadata": {},
   "source": [
    "## Rank stocks"
   ]
  },
  {
   "attachments": {},
   "cell_type": "markdown",
   "metadata": {},
   "source": [
    "#### Get features"
   ]
  },
  {
   "cell_type": "code",
   "execution_count": 3,
   "metadata": {},
   "outputs": [],
   "source": [
    "secrets = get_secrets.get_secrets('.secrets')\n",
    "\n",
    "# rice data base\n",
    "server = secrets[4]\n",
    "database = secrets[5]\n",
    "username = secrets[6]\n",
    "password = secrets[7]\n",
    "string = \"mssql+pymssql://\" + username + \":\" + password + \"@\" + server + \"/\" + database \n",
    "conn = create_engine(string).connect()\n",
    "\n",
    "# Alpaca\n",
    "KEY = secrets[8]\n",
    "SECRET_KEY = secrets[9]"
   ]
  },
  {
   "cell_type": "code",
   "execution_count": 4,
   "metadata": {},
   "outputs": [],
   "source": [
    "df = pd.read_sql(\n",
    "    \"\"\"\n",
    "    select ticker, date, bm, mom12m, roeq, mve, famaindustry\n",
    "    from today\n",
    "    where price > 5\n",
    "    \"\"\", \n",
    "    conn\n",
    ")\n",
    "conn.close()\n",
    "\n",
    "\n",
    "df = df.dropna()\n",
    "df = df.set_index(\"ticker\")\n",
    "df = df.sort_values(by=\"mve\")\n",
    "df = df.iloc[:-500]\n",
    "\n",
    "features = [\"bm\", \"mom12m\", \"roeq\"]"
   ]
  },
  {
   "attachments": {},
   "cell_type": "markdown",
   "metadata": {},
   "source": [
    "#### Predict and rank"
   ]
  },
  {
   "cell_type": "code",
   "execution_count": 5,
   "metadata": {},
   "outputs": [],
   "source": [
    "trans_features = qt.fit_transform(df[features])\n",
    "trans_features = pd.DataFrame(trans_features, columns=features)\n",
    "df[\"predict\"] = pipe.predict(trans_features)\n",
    "df[\"rnk\"] = df.predict.rank(method=\"first\")\n",
    "\n",
    "for f in features:\n",
    "    df[\"t\"+f] = qt.fit_transform(df[f].to_numpy().reshape(-1,1))"
   ]
  },
  {
   "attachments": {},
   "cell_type": "markdown",
   "metadata": {},
   "source": [
    "## Get data from Alpaca"
   ]
  },
  {
   "attachments": {},
   "cell_type": "markdown",
   "metadata": {},
   "source": [
    "#### Get account equity"
   ]
  },
  {
   "cell_type": "code",
   "execution_count": 6,
   "metadata": {},
   "outputs": [],
   "source": [
    "trading_client = TradingClient(KEY, SECRET_KEY, paper=True)\n",
    "account = trading_client.get_account()\n",
    "equity = float(account.equity)"
   ]
  },
  {
   "cell_type": "code",
   "execution_count": 7,
   "metadata": {},
   "outputs": [
    {
     "name": "stdout",
     "output_type": "stream",
     "text": [
      "Current equity: $98,597.15\n"
     ]
    }
   ],
   "source": [
    "print(f\"Current equity: ${equity:,.2f}\")"
   ]
  },
  {
   "attachments": {},
   "cell_type": "markdown",
   "metadata": {},
   "source": [
    "#### Get tradeable and shortable stocks"
   ]
  },
  {
   "cell_type": "code",
   "execution_count": 8,
   "metadata": {},
   "outputs": [],
   "source": [
    "assets = trading_client.get_all_assets()\n",
    "\n",
    "assets = [\n",
    "    x for x in assets \n",
    "    if (x.asset_class[:]=='us_equity') \n",
    "    and (x.symbol in df.index) \n",
    "    and (x.status[:]=='active')\n",
    "]\n",
    "symbols = [x.symbol for x in assets]\n",
    "tradable = [x.tradable for x in assets]\n",
    "shortable = [x.shortable for x in assets]\n",
    "\n",
    "df[\"tradable\"]= pd.Series(tradable, index=symbols)\n",
    "df[\"shortable\"] = pd.Series(shortable, index=symbols)"
   ]
  },
  {
   "attachments": {},
   "cell_type": "markdown",
   "metadata": {},
   "source": [
    "#### Get quotes"
   ]
  },
  {
   "cell_type": "code",
   "execution_count": 9,
   "metadata": {},
   "outputs": [],
   "source": [
    "data_client = StockHistoricalDataClient(KEY, SECRET_KEY)\n",
    "params = StockLatestQuoteRequest(symbol_or_symbols=df.index.to_list())\n",
    "quotes = data_client.get_stock_latest_quote(params)\n",
    "\n",
    "df[\"ask\"] = [quotes[x].ask_price for x in df.index]\n",
    "df[\"bid\"] = [quotes[x].bid_price for x in df.index]"
   ]
  },
  {
   "attachments": {},
   "cell_type": "markdown",
   "metadata": {},
   "source": [
    "#### Get positions"
   ]
  },
  {
   "cell_type": "code",
   "execution_count": 10,
   "metadata": {},
   "outputs": [],
   "source": [
    "positions = trading_client.get_all_positions()\n",
    "if len(positions) > 0:\n",
    "    positions = {x.symbol: int(x.qty) for x in positions}\n",
    "    positions = pd.Series(positions)\n",
    "    df[\"current\"] = positions\n",
    "    df[\"current\"] = df.current.fillna(0)\n",
    "else:\n",
    "    df[\"current\"] = 0"
   ]
  },
  {
   "attachments": {},
   "cell_type": "markdown",
   "metadata": {},
   "source": [
    "## Trade"
   ]
  },
  {
   "attachments": {},
   "cell_type": "markdown",
   "metadata": {},
   "source": [
    "#### Calculate target positions"
   ]
  },
  {
   "cell_type": "code",
   "execution_count": 11,
   "metadata": {},
   "outputs": [],
   "source": [
    "long_per_stock = 1.3*equity / numstocks\n",
    "short_per_stock = 0.3*equity / numstocks\n",
    "\n",
    "df = df.sort_values(by=\"rnk\")\n",
    "\n",
    "try:\n",
    "    short_cutoff = df[df.shortable & (df.bid>0)].rnk.iloc[numstocks-1]\n",
    "    long_cutoff = df[df.tradable & (df.ask>0)].rnk.iloc[-numstocks]\n",
    "    df[\"target\"] = np.where(\n",
    "        df.shortable & (df.bid>0) & (df.rnk<=short_cutoff),\n",
    "        -short_per_stock/df.bid, \n",
    "        0\n",
    "    )\n",
    "    df[\"target\"] = np.where(\n",
    "        df.tradable & (df.ask>0) & (df.rnk>=long_cutoff), \n",
    "        long_per_stock/df.ask, \n",
    "        df.target\n",
    "    )\n",
    "    df[\"target\"] = df.target.astype(int)\n",
    "except:\n",
    "    df[\"target\"] = 0"
   ]
  },
  {
   "attachments": {},
   "cell_type": "markdown",
   "metadata": {},
   "source": [
    "#### Calculate trades\n",
    "\n",
    "Using a simple but suboptimal protocol: trade to target positions without trying to minimize the number of round trips we might eventually make."
   ]
  },
  {
   "cell_type": "code",
   "execution_count": 12,
   "metadata": {},
   "outputs": [],
   "source": [
    "df[\"trade\"] = df.target - df.current"
   ]
  },
  {
   "attachments": {},
   "cell_type": "markdown",
   "metadata": {},
   "source": [
    "#### Make trades"
   ]
  },
  {
   "cell_type": "code",
   "execution_count": 13,
   "metadata": {},
   "outputs": [],
   "source": [
    "for tick in df.index: \n",
    "    if df.loc[tick, \"trade\"]<0:\n",
    "        try:\n",
    "            market_order_data = MarketOrderRequest(\n",
    "                symbol=tick,\n",
    "                qty=-df.loc[tick, \"trade\"],\n",
    "                side=OrderSide.SELL,\n",
    "                time_in_force=TimeInForce.DAY\n",
    "            )\n",
    "            market_order = trading_client.submit_order(\n",
    "                order_data=market_order_data\n",
    "            )\n",
    "        except:\n",
    "            print(f\"sell order for {tick} failed\")\n",
    "    elif df.loc[tick, \"trade\"]>0:\n",
    "        try:\n",
    "            market_order_data = MarketOrderRequest(\n",
    "                symbol=tick,\n",
    "                qty=df.loc[tick, \"trade\"],\n",
    "                side=OrderSide.BUY,\n",
    "                time_in_force=TimeInForce.DAY\n",
    "            )\n",
    "            market_order = trading_client.submit_order(\n",
    "                order_data=market_order_data\n",
    "            )\n",
    "        except:\n",
    "            print(f\"buy order for {tick} failed\")\n",
    "\n"
   ]
  },
  {
   "attachments": {},
   "cell_type": "markdown",
   "metadata": {},
   "source": [
    "## Save data"
   ]
  },
  {
   "cell_type": "code",
   "execution_count": 14,
   "metadata": {},
   "outputs": [],
   "source": [
    "today = datetime.today().strftime(\"%Y-%m-%d\")\n",
    "\n",
    "df[\"date\"] = today\n",
    "\n",
    "try:\n",
    "    d = pd.read_csv(\"files/trade_data.csv\", index_col=\"ticker\")\n",
    "    d = d[d.date != today]\n",
    "    df = pd.concat((d, df))\n",
    "    df.to_csv(\"files/trade_data.csv\")\n",
    "except:\n",
    "    df.to_csv(\"files/trade_data.csv\")"
   ]
  },
  {
   "cell_type": "code",
   "execution_count": 15,
   "metadata": {},
   "outputs": [],
   "source": [
    "account = trading_client.get_account()\n",
    "account = dict(account)\n",
    "account = pd.DataFrame(pd.Series(account)).T\n",
    "account[\"date\"] = today\n",
    "\n",
    "try:\n",
    "    d = pd.read_csv(\"files/account.csv\")\n",
    "    d = d[d.date != today]\n",
    "    account = pd.concat((d, account))\n",
    "    account.to_csv(\"files/account.csv\")\n",
    "except:\n",
    "    account.to_csv(\"files/account.csv\")\n"
   ]
  },
  {
   "cell_type": "markdown",
   "metadata": {},
   "source": []
  },
  {
   "cell_type": "code",
   "execution_count": 16,
   "metadata": {},
   "outputs": [],
   "source": [
    "positions = trading_client.get_all_positions()\n",
    "positions = {x.symbol: x.qty for x in positions}\n",
    "positions = pd.DataFrame(pd.Series(positions))\n",
    "positions[\"date\"] = today\n",
    "\n",
    "try:\n",
    "    d = pd.read_csv(\"files/positions.csv\")\n",
    "    d = d[d.date != today]\n",
    "    positions = pd.concat((d, positions))\n",
    "    positions.to_csv(\"files/positions.csv\")\n",
    "except:\n",
    "    positions.to_csv(\"files/positions.csv\")"
   ]
  }
 ],
 "metadata": {
  "kernelspec": {
   "display_name": "base",
   "language": "python",
   "name": "python3"
  },
  "language_info": {
   "codemirror_mode": {
    "name": "ipython",
    "version": 3
   },
   "file_extension": ".py",
   "mimetype": "text/x-python",
   "name": "python",
   "nbconvert_exporter": "python",
   "pygments_lexer": "ipython3",
   "version": "3.9.12"
  },
  "orig_nbformat": 4,
  "vscode": {
   "interpreter": {
    "hash": "dc3b4a4a31b6e665535697a8ec6dc04a4dae602fc274520d31fba39b24f906ad"
   }
  }
 },
 "nbformat": 4,
 "nbformat_minor": 2
}
