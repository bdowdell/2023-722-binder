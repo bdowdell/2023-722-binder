{
 "cells": [
  {
   "cell_type": "code",
   "execution_count": null,
   "metadata": {},
   "outputs": [],
   "source": [
    "import numpy as np\n",
    "from pandas_datareader import DataReader as pdr\n",
    "\n",
    "rates = pdr(\"DGS1\", \"fred\") / 100\n",
    "rf = np.log(1+rates.iloc[-1].item())\n",
    "rf"
   ]
  },
  {
   "cell_type": "code",
   "execution_count": null,
   "metadata": {},
   "outputs": [],
   "source": [
    "import yfinance as yf\n",
    "\n",
    "df = yf.download(\"cvx\", start='2022-02-01', end='2023-002-01', progress=False)\n",
    "prices = df[\"Adj Close\"].iloc[::5]\n",
    "rets = np.log(prices).diff()\n",
    "sigma = np.sqrt(52)*rets.std()\n",
    "sigma"
   ]
  },
  {
   "cell_type": "code",
   "execution_count": null,
   "metadata": {},
   "outputs": [],
   "source": [
    "start_price = df[\"Close\"].iloc[0]\n",
    "divs = yf.Ticker(\"cvx\").history(start='2022-01-01').Dividends\n",
    "q = divs.sum() / start_price\n",
    "q"
   ]
  }
 ],
 "metadata": {
  "kernelspec": {
   "display_name": "venv",
   "language": "python",
   "name": "python3"
  },
  "language_info": {
   "name": "python",
   "version": "3.10.7 (tags/v3.10.7:6cc6b13, Sep  5 2022, 14:08:36) [MSC v.1933 64 bit (AMD64)]"
  },
  "orig_nbformat": 4,
  "vscode": {
   "interpreter": {
    "hash": "be7e468743716feb36892147511f2a8d480e8db8df6013d217e9e616f2a0761d"
   }
  }
 },
 "nbformat": 4,
 "nbformat_minor": 2
}
